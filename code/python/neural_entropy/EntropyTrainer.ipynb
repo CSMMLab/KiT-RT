{
 "cells": [
  {
   "cell_type": "markdown",
   "metadata": {
    "colab_type": "text",
    "id": "Ufb5Oc9LHkOd"
   },
   "source": [
    "# Test NN for Entropy Closure #\n",
    "\n",
    "Test Data is generated from RTSN code"
   ]
  },
  {
   "cell_type": "markdown",
   "metadata": {
    "colab_type": "text",
    "id": "Zs9ZGENoItzq"
   },
   "source": [
    "Load all needed modules"
   ]
  },
  {
   "cell_type": "code",
   "execution_count": 1,
   "metadata": {},
   "outputs": [],
   "source": [
    "# Imports\n",
    "import pandas as pd\n",
    "import random                        # for generating random numbers\n",
    "import numpy as np\n",
    "import tensorflow as tf\n",
    "from tensorflow import keras\n",
    "import matplotlib.pyplot as plt      # MATLAB like plotting routines\n",
    "from sklearn.preprocessing import normalize"
   ]
  },
  {
   "cell_type": "markdown",
   "metadata": {
    "colab_type": "text",
    "id": "Z9bPtTIHIxnR"
   },
   "source": [
    "Load and preprocess Training Data"
   ]
  },
  {
   "cell_type": "code",
   "execution_count": 2,
   "metadata": {
    "colab": {
     "base_uri": "https://localhost:8080/",
     "height": 78,
     "resources": {
      "http://localhost:8080/nbextensions/google.colab/files.js": {
       "data": "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",
       "headers": [
        [
         "content-type",
         "application/javascript"
        ]
       ],
       "ok": true,
       "status": 200,
       "status_text": "OK"
      }
     }
    },
    "colab_type": "code",
    "id": "tbAk6wxEJt8J",
    "outputId": "43ee9205-39a1-4f74-dd6a-1a2ce5c89030"
   },
   "outputs": [],
   "source": [
    "def preprocess_data(filename):\n",
    "    # reading csv file\n",
    "    dataFrameInput = pd.read_csv(filename) #outputs a dataframe object\n",
    "\n",
    "    idx = 0\n",
    "    xDataList = list()\n",
    "    yDataList = list()\n",
    "    data = dataFrameInput.values  # numpy array\n",
    "\n",
    "    ## Somehow t = 0 has an odd number of elements, just cut it out\n",
    "\n",
    "    for row in data:\n",
    "        if (row[2] > 0):\n",
    "            if (idx % 2 == 0):\n",
    "                xDataList.append(row)\n",
    "            else:\n",
    "                yDataList.append(row)\n",
    "\n",
    "            idx = idx + 1\n",
    "\n",
    "    # merge the lists\n",
    "    DataList = list()\n",
    "    for rowX, rowY in zip(xDataList, yDataList):\n",
    "        DataList.append([rowX, rowY])\n",
    "\n",
    "    # Shuffle data\n",
    "\n",
    "    random.shuffle(DataList)\n",
    "\n",
    "    DataArray = np.asarray(DataList)\n",
    "    #print(DataArray.shape)\n",
    "\n",
    "    # Strip off header information, i.e. the first 3 cols\n",
    "    DataArraySlim = DataArray[:, :, 3:]\n",
    "    #print(DataArraySlim.shape)\n",
    "\n",
    "    '''\n",
    "    # split in train and test data (ratio 4:1)\n",
    "    DataTrain = DataArraySlim[:4 * int(DataArraySlim.shape[0] / 5)]\n",
    "    DataTest = DataArraySlim[4 * int(DataArraySlim.shape[0] / 5):]\n",
    "\n",
    "    # Split in x (input) and y (output) data\n",
    "    xDataTrain = DataTrain[:, 0, :]\n",
    "    yDataTrain = DataTrain[:, 1, :]\n",
    "    xDataTest = DataTest[:, 0, :]\n",
    "    yDataTest = DataTest[:, 1, :]\n",
    "\n",
    "    #Normalize Input\n",
    "    #xDataTrain = normalize(xDataTrain, axis=1, norm='l1')\n",
    "    #xDataTest = normalize(xDataTest, axis=1, norm='l1')\n",
    "    \n",
    "    '''\n",
    "    \n",
    "    return DataArraySlim\n",
    "\n",
    "def split_data(Data, ratio): # 0<ratio<1 ratio of test data\n",
    "    \n",
    "    # split in train and test data (ratio 4:1)\n",
    "    DataTrain = Data[:int((1-ratio)* int(Data.shape[0] ))]\n",
    "    DataTest = Data[int((1-ratio)* int(Data.shape[0] )):]\n",
    "\n",
    "    # Split in x (input) and y (output) data\n",
    "    xDataTrain = DataTrain[:, 0, :]\n",
    "    yDataTrain = DataTrain[:, 1, :]\n",
    "    xDataTest = DataTest[:, 0, :]\n",
    "    yDataTest = DataTest[:, 1, :]\n",
    "    \n",
    "    return (xDataTrain,yDataTrain,xDataTest,yDataTest)\n"
   ]
  },
  {
   "cell_type": "markdown",
   "metadata": {
    "colab_type": "text",
    "id": "N2NZasiqKFm_"
   },
   "source": [
    "Review Training Data"
   ]
  },
  {
   "cell_type": "code",
   "execution_count": 3,
   "metadata": {},
   "outputs": [],
   "source": [
    "# Load the Data\n",
    "(xDataTrain,yDataTrain,xDataTest,yDataTest) = split_data(preprocess_data(\"trainNN.csv\"),0.2) \n"
   ]
  },
  {
   "cell_type": "markdown",
   "metadata": {
    "colab_type": "text",
    "id": "zmHBl9XYLa4q"
   },
   "source": [
    "## Start the Neural Network ##\n",
    "First, load the needed python modules\n"
   ]
  },
  {
   "cell_type": "markdown",
   "metadata": {
    "colab_type": "text",
    "id": "Idh6eJsZUhZj"
   },
   "source": [
    "##Build the Network - Take one: Simple FCN (Fully connected Network) ###\n",
    "\n",
    "* Input: Solution of the Kinetic solver at time-step n and a cell, called u \n",
    "* Output: Legendre multiplier of the entropy closure, called alpha\n",
    "\n",
    "u and alpha have the same length, which is given by the size of the moment basis.\n",
    "\n"
   ]
  },
  {
   "cell_type": "code",
   "execution_count": 4,
   "metadata": {
    "colab": {},
    "colab_type": "code",
    "id": "_piriejwUY6I"
   },
   "outputs": [],
   "source": [
    "import tensorflow as tf\n",
    "from tensorflow import keras\n",
    "from tensorflow.keras import layers\n",
    "from tensorflow.keras.utils import plot_model\n",
    "# Build the network:\n",
    "def create_model():\n",
    "  model = tf.keras.models.Sequential([\n",
    "    keras.layers.Dense(256, activation='relu', input_shape=(4,)),\n",
    "    keras.layers.Dropout(0.2),\n",
    "    keras.layers.Dense(512, activation='relu', input_shape=(64,)),\n",
    "    keras.layers.Dropout(0.2),\n",
    "    keras.layers.Dense(256, activation='relu', input_shape=(256,)),\n",
    "    keras.layers.Dropout(0.2),\n",
    "    keras.layers.Dense(128, activation='relu', input_shape=(128,)),\n",
    "    keras.layers.Dropout(0.2),\n",
    "    keras.layers.Dense(4,)\n",
    "  ])\n",
    "\n",
    "  model.summary()\n",
    "  #plot_model(model, to_file='model_plot.png', show_shapes=True, show_layer_names=True)\n",
    "  '''\n",
    "  bfgs_opt = tfp.optimizer.bfgs_minimize(\n",
    "    value_and_gradients_function, initial_position, tolerance=1e-08, x_tolerance=0,\n",
    "    f_relative_tolerance=0, initial_inverse_hessian_estimate=None,\n",
    "    max_iterations=50, parallel_iterations=1, stopping_condition=None,\n",
    "    validate_args=True, max_line_search_iterations=50, name=None\n",
    "    )\n",
    "  '''\n",
    "  model.compile(loss=tf.keras.losses.MeanSquaredError(), optimizer='adam', metrics=['accuracy'])\n",
    "\n",
    "  return model\n"
   ]
  },
  {
   "cell_type": "markdown",
   "metadata": {
    "colab_type": "text",
    "id": "j7bZnd0QWdou"
   },
   "source": [
    "### Compile the model ###"
   ]
  },
  {
   "cell_type": "code",
   "execution_count": 5,
   "metadata": {
    "colab": {
     "base_uri": "https://localhost:8080/",
     "height": 495
    },
    "colab_type": "code",
    "id": "_UJ-kksOWdMN",
    "outputId": "cb9e61a8-9dc4-4d2b-871b-28722435db0b"
   },
   "outputs": [
    {
     "name": "stdout",
     "output_type": "stream",
     "text": [
      "Model: \"sequential\"\n",
      "_________________________________________________________________\n",
      "Layer (type)                 Output Shape              Param #   \n",
      "=================================================================\n",
      "dense (Dense)                (None, 256)               1280      \n",
      "_________________________________________________________________\n",
      "dropout (Dropout)            (None, 256)               0         \n",
      "_________________________________________________________________\n",
      "dense_1 (Dense)              (None, 512)               131584    \n",
      "_________________________________________________________________\n",
      "dropout_1 (Dropout)          (None, 512)               0         \n",
      "_________________________________________________________________\n",
      "dense_2 (Dense)              (None, 256)               131328    \n",
      "_________________________________________________________________\n",
      "dropout_2 (Dropout)          (None, 256)               0         \n",
      "_________________________________________________________________\n",
      "dense_3 (Dense)              (None, 128)               32896     \n",
      "_________________________________________________________________\n",
      "dropout_3 (Dropout)          (None, 128)               0         \n",
      "_________________________________________________________________\n",
      "dense_4 (Dense)              (None, 4)                 516       \n",
      "=================================================================\n",
      "Total params: 297,604\n",
      "Trainable params: 297,604\n",
      "Non-trainable params: 0\n",
      "_________________________________________________________________\n"
     ]
    }
   ],
   "source": [
    "model = create_model()\n",
    "\n",
    "# Let's use the Adam optimizer for learning\n",
    "#model.compile(loss=tf.keras.losses.MeanSquaredError(), optimizer='adam', metrics=['accuracy'])"
   ]
  },
  {
   "cell_type": "markdown",
   "metadata": {
    "colab_type": "text",
    "id": "HSIghzZCW41n"
   },
   "source": [
    "## Train the model ##\n"
   ]
  },
  {
   "cell_type": "code",
   "execution_count": 6,
   "metadata": {
    "colab": {
     "base_uri": "https://localhost:8080/",
     "height": 862
    },
    "colab_type": "code",
    "id": "tA1P9EwUW9bh",
    "outputId": "76cd7455-2388-4cb6-8d3b-6d8a6cd8f6b4"
   },
   "outputs": [
    {
     "name": "stdout",
     "output_type": "stream",
     "text": [
      "Model: \"sequential_1\"\n",
      "_________________________________________________________________\n",
      "Layer (type)                 Output Shape              Param #   \n",
      "=================================================================\n",
      "dense_5 (Dense)              (None, 256)               1280      \n",
      "_________________________________________________________________\n",
      "dropout_4 (Dropout)          (None, 256)               0         \n",
      "_________________________________________________________________\n",
      "dense_6 (Dense)              (None, 512)               131584    \n",
      "_________________________________________________________________\n",
      "dropout_5 (Dropout)          (None, 512)               0         \n",
      "_________________________________________________________________\n",
      "dense_7 (Dense)              (None, 256)               131328    \n",
      "_________________________________________________________________\n",
      "dropout_6 (Dropout)          (None, 256)               0         \n",
      "_________________________________________________________________\n",
      "dense_8 (Dense)              (None, 128)               32896     \n",
      "_________________________________________________________________\n",
      "dropout_7 (Dropout)          (None, 128)               0         \n",
      "_________________________________________________________________\n",
      "dense_9 (Dense)              (None, 4)                 516       \n",
      "=================================================================\n",
      "Total params: 297,604\n",
      "Trainable params: 297,604\n",
      "Non-trainable params: 0\n",
      "_________________________________________________________________\n"
     ]
    },
    {
     "data": {
      "text/plain": [
       "\"\\nhistory = model.fit(xDataTrain, yDataTrain,validation_split=0.33, epochs=1, batch_size=1000, verbose=1)\\n\\nprint(history.history.keys())\\nplt.plot(history.history['accuracy'])\\nplt.plot(history.history['val_accuracy'])\\nplt.title('model accuracy')\\nplt.ylabel('accuracy')\\nplt.xlabel('epoch')\\nplt.legend(['train', 'test'], loc='upper left')\\nplt.show()\\n# summarize history for loss\\nplt.plot(history.history['loss'])\\nplt.plot(history.history['val_loss'])\\nplt.title('model loss')\\nplt.ylabel('loss')\\nplt.xlabel('epoch')\\nplt.legend(['train', 'test'], loc='upper left')\\nplt.show()\\n\""
      ]
     },
     "execution_count": 6,
     "metadata": {},
     "output_type": "execute_result"
    }
   ],
   "source": [
    "#from tensorflow.keras.callbacks import ReduceLROnPlateau\n",
    "\n",
    "#rlrop = ReduceLROnPlateau(monitor='val_loss', factor=0.1, patience=100)\n",
    "\n",
    "\n",
    "# Create the model\n",
    "model = create_model()\n",
    "\n",
    "'''\n",
    "history = model.fit(xDataTrain, yDataTrain,validation_split=0.33, epochs=1, batch_size=1000, verbose=1)\n",
    "\n",
    "print(history.history.keys())\n",
    "plt.plot(history.history['accuracy'])\n",
    "plt.plot(history.history['val_accuracy'])\n",
    "plt.title('model accuracy')\n",
    "plt.ylabel('accuracy')\n",
    "plt.xlabel('epoch')\n",
    "plt.legend(['train', 'test'], loc='upper left')\n",
    "plt.show()\n",
    "# summarize history for loss\n",
    "plt.plot(history.history['loss'])\n",
    "plt.plot(history.history['val_loss'])\n",
    "plt.title('model loss')\n",
    "plt.ylabel('loss')\n",
    "plt.xlabel('epoch')\n",
    "plt.legend(['train', 'test'], loc='upper left')\n",
    "plt.show()\n",
    "'''"
   ]
  },
  {
   "cell_type": "markdown",
   "metadata": {
    "colab_type": "text",
    "id": "Uw9gWsZm7gXr"
   },
   "source": [
    "## Evaluate the Model accuracy\n"
   ]
  },
  {
   "cell_type": "code",
   "execution_count": 7,
   "metadata": {
    "colab": {},
    "colab_type": "code",
    "id": "FkW8CoZl7rNn"
   },
   "outputs": [
    {
     "name": "stdout",
     "output_type": "stream",
     "text": [
      "5857/5857 [==============================] - 5s 833us/step - loss: 116.9835 - accuracy: 0.0600\n",
      "Test score: 116.98348236083984\n",
      "Test accuracy: 0.060038525611162186\n"
     ]
    }
   ],
   "source": [
    "score = model.evaluate(xDataTest, yDataTest)\n",
    "print('Test score:', score[0])\n",
    "print('Test accuracy:', score[1])"
   ]
  },
  {
   "cell_type": "markdown",
   "metadata": {
    "colab_type": "text",
    "id": "G3z1HCkGQJP_"
   },
   "source": [
    "##Make a prediction"
   ]
  },
  {
   "cell_type": "code",
   "execution_count": 8,
   "metadata": {
    "colab": {},
    "colab_type": "code",
    "id": "Q9EU3H2hQNgX"
   },
   "outputs": [
    {
     "name": "stdout",
     "output_type": "stream",
     "text": [
      "(1, 4)\n",
      "[[ 0.01442055  0.00197476 -0.02659885  0.01293895]]\n"
     ]
    }
   ],
   "source": [
    "print(np.asarray([xDataTest[0]]).shape)\n",
    "pred = model.predict(np.asarray([xDataTest[0]]))\n",
    "print(pred)"
   ]
  },
  {
   "cell_type": "markdown",
   "metadata": {
    "colab_type": "text",
    "id": "33xsSsD5YeA0"
   },
   "source": [
    "## Save trained model"
   ]
  },
  {
   "cell_type": "code",
   "execution_count": 9,
   "metadata": {
    "colab": {},
    "colab_type": "code",
    "id": "iCgbAY22YdFo"
   },
   "outputs": [
    {
     "name": "stdout",
     "output_type": "stream",
     "text": [
      "2.3.0\n"
     ]
    }
   ],
   "source": [
    "print(tf.version.VERSION)\n",
    "\n",
    "#!mkdir -p saved_model\n",
    "#model.save('saved_model/my_model')\n"
   ]
  },
  {
   "cell_type": "code",
   "execution_count": 10,
   "metadata": {
    "colab": {},
    "colab_type": "code",
    "id": "4mJTKJVzwxE5"
   },
   "outputs": [],
   "source": [
    "# Prepare model for download\n",
    "\n",
    "#!zip -r model.zip saved_model"
   ]
  },
  {
   "cell_type": "code",
   "execution_count": 11,
   "metadata": {
    "colab": {},
    "colab_type": "code",
    "id": "zxdU5YCdxGMo"
   },
   "outputs": [],
   "source": [
    "# download model\n",
    "#from google.colab import files\n",
    "#files.download(\"model.zip\")"
   ]
  },
  {
   "cell_type": "markdown",
   "metadata": {
    "colab_type": "text",
    "id": "-EcApWoWf8xk"
   },
   "source": [
    "## Take two: A more sophisticated Loss Function ##\n",
    "\n",
    "The Loss is defined as the Objective function of the minimal entropy problem:\n",
    "\n",
    "$L(u,\\alpha, \\theta) = <\\eta_*(\\alpha(\\theta) \\cdot m(v))>_v - \\alpha(\\theta) \\cdot u$\n",
    "\n",
    "\n",
    "\n"
   ]
  },
  {
   "cell_type": "markdown",
   "metadata": {},
   "source": [
    "#### Easiest case \n",
    "$\\alpha, u\\in\\mathbb{R}$\n",
    "\n",
    "Entropy $\\eta(\\alpha\\cdot m) = exp(\\alpha\\cdot m)$ \n",
    "\n",
    "Spherical harmonics basis for $M_0$: $ m_0 = \\sqrt{\\left(\\frac{1}{4\\pi}\\right)}$"
   ]
  },
  {
   "cell_type": "code",
   "execution_count": 12,
   "metadata": {},
   "outputs": [
    {
     "name": "stdout",
     "output_type": "stream",
     "text": [
      "tf.Tensor(37.846815845621244, shape=(), dtype=float64)\n"
     ]
    },
    {
     "data": {
      "image/png": "[encoded data removed]",
      "text/plain": [
       "<Figure size 432x288 with 1 Axes>"
      ]
     },
     "metadata": {
      "needs_background": "light"
     },
     "output_type": "display_data"
    },
    {
     "data": {
      "image/png": "[encoded data removed]",
      "text/plain": [
       "<Figure size 432x288 with 1 Axes>"
      ]
     },
     "metadata": {
      "needs_background": "light"
     },
     "output_type": "display_data"
    },
    {
     "data": {
      "image/png": "[encoded data removed]",
      "text/plain": [
       "<Figure size 432x288 with 1 Axes>"
      ]
     },
     "metadata": {
      "needs_background": "light"
     },
     "output_type": "display_data"
    }
   ],
   "source": [
    "import math\n",
    "\n",
    "\n",
    "# Custom Loss\n",
    "def custom_loss1d(u_input, alpha_pred): # (label,prediciton)\n",
    "     return (0.5*alpha_pred*alpha_pred -u*alpha_pred)\n",
    "    #return 4*math.pi*tf.math.exp(alpha_pred*np.sqrt(1/(4*np.pi))) - alpha_pred*u_input\n",
    "\n",
    "def custom_loss1dMB(u_input, alpha_pred): # (label,prediciton)\n",
    "    return 4*math.pi*tf.math.exp(alpha_pred*np.sqrt(1/(4*np.pi))) - alpha_pred*u_input\n",
    "  \n",
    "# Custom Loss\n",
    "def custom_loss1dMBPrime(u_input, alpha_pred): # (label,prediciton)\n",
    "\n",
    "    return 0.5*tf.square(4*math.pi*np.sqrt(1/(4*np.pi))*tf.math.exp(alpha_pred*np.sqrt(1/(4*np.pi))) - u_input)\n",
    "#tf.norm(4*math.pi*np.sqrt(1/(4*np.pi))*tf.math.exp(alpha_pred*np.sqrt(1/(4*np.pi))) - u_input, ord='euclidean')\n",
    "\n",
    "\n",
    "# not realizable moment\n",
    "u = -4\n",
    "print(custom_loss1dMBPrime(u,1))\n",
    "\n",
    "alpha = np.arange(-100.0, -3, 0.05)\n",
    "plt.figure()\n",
    "plt.plot(alpha,custom_loss1dMBPrime(u,alpha))\n",
    "plt.ylabel('alpha')\n",
    "plt.xlabel('loss')\n",
    "plt.title('u=-4')\n",
    "plt.show()\n",
    "\n",
    "#realizable moment\n",
    "u = 10\n",
    "alpha = np.arange(-100.0, 9.0, 0.05)\n",
    "plt.figure()\n",
    "plt.plot(alpha,custom_loss1dMBPrime(u,alpha))\n",
    "plt.ylabel('alpha')\n",
    "plt.xlabel('loss')\n",
    "plt.title('u=10')\n",
    "plt.show()\n",
    "\n",
    "# moment close to the boundary of the realizable set\n",
    "u = 0.1\n",
    "alpha = np.arange(-100.0, 1.0, 0.05)\n",
    "plt.figure()\n",
    "plt.plot(alpha,custom_loss1dMBPrime(u,alpha))\n",
    "plt.ylabel('alpha')\n",
    "plt.xlabel('loss')\n",
    "plt.title('u=0.1')\n",
    "plt.show()"
   ]
  },
  {
   "cell_type": "code",
   "execution_count": 42,
   "metadata": {},
   "outputs": [],
   "source": [
    "# build the network\n",
    "import numpy as np\n",
    "import tensorflow as tf\n",
    "from tensorflow import keras\n",
    "from tensorflow.keras import layers\n",
    "import math\n",
    "from tensorflow.keras.callbacks import EarlyStopping,ModelCheckpoint\n",
    "\n",
    "def custom_loss1dMB(u_input, alpha_pred): # (label,prediciton)\n",
    "    return 4*math.pi*tf.math.exp(alpha_pred*np.sqrt(1/(4*np.pi))) - alpha_pred*u_input\n",
    "  \n",
    "# Custom Loss\n",
    "def custom_loss1dMBPrime(): # (label,prediciton)\n",
    "    def loss(u_input, alpha_pred):\n",
    "        return 0.5*tf.square(4*math.pi*np.sqrt(1/(4*np.pi))*tf.math.exp(alpha_pred*np.sqrt(1/(4*np.pi))) - u_input)\n",
    "    return loss\n",
    "\n",
    "# Custom Loss\n",
    "def custom_loss1dQuad(u_input, alpha_pred): # (label,prediciton)\n",
    "    return (0.5*alpha_pred*alpha_pred -u*alpha_pred)\n",
    "    #return 4*math.pi*tf.math.exp(alpha_pred*np.sqrt(1/(4*np.pi))) - alpha_pred*u_input\n",
    "  \n",
    "\n",
    "\n",
    "# Build the network:\n",
    "def create_model():\n",
    "    \n",
    "    # Define the input\n",
    "    input_ = keras.Input(shape=(1,))\n",
    "    \n",
    "    # Hidden layers\n",
    "    hidden1 = layers.Dense(4, activation=\"tanh\")(input_)  \n",
    "    hidden2 = layers.Dense(8, activation=\"tanh\")(hidden1)  \n",
    "    hidden3 = layers.Dense(32, activation=\"tanh\")(hidden2)  \n",
    "    hidden4 = layers.Dense(8, activation=\"tanh\")(hidden3)  \n",
    "    hidden5 = layers.Dense(4, activation=\"tanh\")(hidden4)  \n",
    "    \n",
    "    #Define the ouput\n",
    "    output_ = layers.Dense(1)(hidden5)\n",
    "    \n",
    "    # Create the model\n",
    "    model = keras.Model(inputs=[input_], outputs=[output_] )\n",
    "    \n",
    "    \n",
    "    model.summary()\n",
    "    \n",
    "    # tf.keras.losses.MeanSquaredError()\n",
    "    #custom_loss1d\n",
    "    model.compile(loss=custom_loss1dMBPrime() , optimizer='adam') #, metrics=[custom_loss1dMB, custom_loss1dMBPrime()])\n",
    "\n",
    "    return model\n"
   ]
  },
  {
   "cell_type": "code",
   "execution_count": 43,
   "metadata": {},
   "outputs": [
    {
     "name": "stdout",
     "output_type": "stream",
     "text": [
      "Model: \"functional_9\"\n",
      "_________________________________________________________________\n",
      "Layer (type)                 Output Shape              Param #   \n",
      "=================================================================\n",
      "input_5 (InputLayer)         [(None, 1)]               0         \n",
      "_________________________________________________________________\n",
      "dense_34 (Dense)             (None, 4)                 8         \n",
      "_________________________________________________________________\n",
      "dense_35 (Dense)             (None, 8)                 40        \n",
      "_________________________________________________________________\n",
      "dense_36 (Dense)             (None, 32)                288       \n",
      "_________________________________________________________________\n",
      "dense_37 (Dense)             (None, 8)                 264       \n",
      "_________________________________________________________________\n",
      "dense_38 (Dense)             (None, 4)                 36        \n",
      "_________________________________________________________________\n",
      "dense_39 (Dense)             (None, 1)                 5         \n",
      "=================================================================\n",
      "Total params: 641\n",
      "Trainable params: 641\n",
      "Non-trainable params: 0\n",
      "_________________________________________________________________\n"
     ]
    }
   ],
   "source": [
    " model = create_model()\n"
   ]
  },
  {
   "cell_type": "code",
   "execution_count": 24,
   "metadata": {},
   "outputs": [
    {
     "name": "stdout",
     "output_type": "stream",
     "text": [
      "[0.1    0.1001 0.1002 ... 9.9997 9.9998 9.9999]\n",
      "[5.723  0.2869 6.386  ... 5.189  7.6995 4.5454]\n"
     ]
    }
   ],
   "source": [
    "# build training data and shuffe!\n",
    "uTrain = np.arange(0.1, 10,0.0001)\n",
    "print(uTrain)\n",
    "random.shuffle(uTrain)\n",
    "print(uTrain)"
   ]
  },
  {
   "cell_type": "markdown",
   "metadata": {},
   "source": [
    "### Study of Optimizers ###\n",
    "\n",
    "Use the dataset np.arange(0.1, 2,0.000001)\n",
    "* RMSPROP: minimal Loss  4.8240e-05  in 79 epochs\n",
    "* ADAM:    minimal Loss  1.2580e-06 in 68 epochs\n",
    "* SGD:  minimal Loss 6.9069e-05 in 167 epochs\n"
   ]
  },
  {
   "cell_type": "code",
   "execution_count": 44,
   "metadata": {},
   "outputs": [
    {
     "name": "stdout",
     "output_type": "stream",
     "text": [
      "Epoch 1/10\n",
      "70/70 [==============================] - 0s 3ms/step - loss: 4.3247 - val_loss: 3.7743\n",
      "Epoch 2/10\n",
      "70/70 [==============================] - 0s 2ms/step - loss: 3.1424 - val_loss: 2.2040\n",
      "Epoch 3/10\n",
      "70/70 [==============================] - 0s 2ms/step - loss: 1.4029 - val_loss: 0.8363\n",
      "Epoch 4/10\n",
      "70/70 [==============================] - 0s 2ms/step - loss: 0.6207 - val_loss: 0.4512\n",
      "Epoch 5/10\n",
      "70/70 [==============================] - 0s 2ms/step - loss: 0.3525 - val_loss: 0.2698\n",
      "Epoch 6/10\n",
      "70/70 [==============================] - 0s 2ms/step - loss: 0.2200 - val_loss: 0.1779\n",
      "Epoch 7/10\n",
      "70/70 [==============================] - 0s 2ms/step - loss: 0.1519 - val_loss: 0.1300\n",
      "Epoch 8/10\n",
      "70/70 [==============================] - 0s 2ms/step - loss: 0.1160 - val_loss: 0.1039\n",
      "Epoch 9/10\n",
      "70/70 [==============================] - 0s 2ms/step - loss: 0.0959 - val_loss: 0.0886\n",
      "Epoch 10/10\n",
      "70/70 [==============================] - 0s 2ms/step - loss: 0.0833 - val_loss: 0.0799\n"
     ]
    },
    {
     "data": {
      "image/png": "[encoded data removed]",
      "text/plain": [
       "<Figure size 432x288 with 1 Axes>"
      ]
     },
     "metadata": {
      "needs_background": "light"
     },
     "output_type": "display_data"
    },
    {
     "data": {
      "image/png": "[encoded data removed]",
      "text/plain": [
       "<Figure size 432x288 with 1 Axes>"
      ]
     },
     "metadata": {
      "needs_background": "light"
     },
     "output_type": "display_data"
    }
   ],
   "source": [
    "#Create Early Stopping callback\n",
    "es = EarlyStopping(monitor='loss', mode='min', min_delta =0.00005, patience=50, verbose=10) # loss == custom_loss1dMBPrime by model definition\n",
    "mc = ModelCheckpoint('best_model.h5', monitor='loss', mode='min', save_best_only=True)\n",
    "\n",
    "# Train the model\n",
    "history = model.fit(uTrain, uTrain,validation_split=0.3, epochs=10, batch_size=1000, verbose=1, callbacks = [es,mc])\n",
    "\n",
    "# summarize history for loss\n",
    "plt.plot(history.history['loss'])\n",
    "plt.plot(history.history['val_loss'])\n",
    "plt.title('model loss')\n",
    "plt.ylabel('loss')\n",
    "plt.xlabel('epoch')\n",
    "plt.legend(['train', 'test'], loc='upper left')\n",
    "plt.show()\n",
    "\n",
    "plt.plot(history.history['val_loss'])\n",
    "plt.title('model loss')\n",
    "plt.ylabel('loss')\n",
    "plt.xlabel('epoch')\n",
    "plt.legend(['test'], loc='upper left')\n",
    "plt.show()"
   ]
  },
  {
   "cell_type": "code",
   "execution_count": null,
   "metadata": {},
   "outputs": [],
   "source": [
    "# make prediction\n",
    "pred = model.predict([1])\n",
    "print(pred)\n",
    "# plot prediction to minimal entropy\n",
    "u = 1\n",
    "alpha = np.arange(-100.0, 1.0, 0.05)\n",
    "plt.figure()\n",
    "plt.plot(alpha,custom_loss1dMBPrime(u,alpha))\n",
    "plt.plot(pred,custom_loss1dMBPrime(u,pred), marker=\"*\")\n",
    "plt.ylabel('alpha')\n",
    "plt.xlabel('loss')\n",
    "plt.title('u=1')\n",
    "plt.show()\n",
    "# plot prediction to minimal entropy\n",
    "u = 1.5\n",
    "pred = model.predict([u])\n",
    "print(pred)\n",
    "alpha = np.arange(-100.0, 1.0, 0.05)\n",
    "plt.figure()\n",
    "plt.plot(alpha,custom_loss1dMBPrime(u,alpha))\n",
    "plt.plot(pred,custom_loss1dMBPrime(u,pred), marker=\"*\")\n",
    "plt.ylabel('alpha')\n",
    "plt.xlabel('loss')\n",
    "plt.title('u=1.5')\n",
    "plt.show()\n",
    "\n",
    "u = 0.5\n",
    "pred = model.predict([u])\n",
    "print(pred)\n",
    "alpha = np.arange(-100.0, 1.0, 0.05)\n",
    "plt.figure()\n",
    "plt.plot(alpha,custom_loss1dMBPrime(u,alpha))\n",
    "plt.plot(pred,custom_loss1dMBPrime(u,pred), marker=\"*\")\n",
    "plt.ylabel('alpha')\n",
    "plt.xlabel('loss')\n",
    "plt.title('u=0.5')\n",
    "plt.show()"
   ]
  },
  {
   "cell_type": "code",
   "execution_count": 40,
   "metadata": {},
   "outputs": [
    {
     "name": "stdout",
     "output_type": "stream",
     "text": [
      "2.3.0\n",
      "INFO:tensorflow:Assets written to: saved_model/_EntropyLoss_1_10_M_0/assets\n"
     ]
    }
   ],
   "source": [
    "# Save the model\n",
    "print(tf.version.VERSION)\n",
    "\n",
    "model.save('saved_model/_EntropyLoss_1_10_M_0')"
   ]
  },
  {
   "cell_type": "markdown",
   "metadata": {},
   "source": [
    "#### Test loading capabilities #### "
   ]
  },
  {
   "cell_type": "code",
   "execution_count": 41,
   "metadata": {},
   "outputs": [
    {
     "ename": "ValueError",
     "evalue": "Unable to restore custom object of type _tf_keras_metric currently. Please make sure that the layer implements `get_config`and `from_config` when saving. In addition, please use the `custom_objects` arg when calling `load_model()`.",
     "output_type": "error",
     "traceback": [
      "\u001b[0;31m---------------------------------------------------------------------------\u001b[0m",
      "\u001b[0;31mValueError\u001b[0m                                Traceback (most recent call last)",
      "\u001b[0;32m<ipython-input-41-1f8ae454e3b0>\u001b[0m in \u001b[0;36m<module>\u001b[0;34m\u001b[0m\n\u001b[1;32m      1\u001b[0m \u001b[0;31m# load pre-trained model (as a test)\u001b[0m\u001b[0;34m\u001b[0m\u001b[0;34m\u001b[0m\u001b[0;34m\u001b[0m\u001b[0m\n\u001b[0;32m----> 2\u001b[0;31m \u001b[0mmodel\u001b[0m \u001b[0;34m=\u001b[0m \u001b[0mtf\u001b[0m\u001b[0;34m.\u001b[0m\u001b[0mkeras\u001b[0m\u001b[0;34m.\u001b[0m\u001b[0mmodels\u001b[0m\u001b[0;34m.\u001b[0m\u001b[0mload_model\u001b[0m\u001b[0;34m(\u001b[0m\u001b[0;34m'saved_model/_EntropyLoss_1_10_M_0'\u001b[0m\u001b[0;34m,\u001b[0m \u001b[0mcustom_objects\u001b[0m\u001b[0;34m=\u001b[0m\u001b[0;34m{\u001b[0m \u001b[0;34m'loss'\u001b[0m\u001b[0;34m:\u001b[0m\u001b[0mcustom_loss1dMBPrime\u001b[0m \u001b[0;34m}\u001b[0m\u001b[0;34m)\u001b[0m\u001b[0;34m\u001b[0m\u001b[0;34m\u001b[0m\u001b[0m\n\u001b[0m\u001b[1;32m      3\u001b[0m \u001b[0;34m\u001b[0m\u001b[0m\n\u001b[1;32m      4\u001b[0m \u001b[0;31m# Check its architecture\u001b[0m\u001b[0;34m\u001b[0m\u001b[0;34m\u001b[0m\u001b[0;34m\u001b[0m\u001b[0m\n\u001b[1;32m      5\u001b[0m \u001b[0mmodel\u001b[0m\u001b[0;34m.\u001b[0m\u001b[0msummary\u001b[0m\u001b[0;34m(\u001b[0m\u001b[0;34m)\u001b[0m\u001b[0;34m\u001b[0m\u001b[0;34m\u001b[0m\u001b[0m\n",
      "\u001b[0;32m~/.local/lib/python3.8/site-packages/tensorflow/python/keras/saving/save.py\u001b[0m in \u001b[0;36mload_model\u001b[0;34m(filepath, custom_objects, compile, options)\u001b[0m\n\u001b[1;32m    185\u001b[0m     \u001b[0;32mif\u001b[0m \u001b[0misinstance\u001b[0m\u001b[0;34m(\u001b[0m\u001b[0mfilepath\u001b[0m\u001b[0;34m,\u001b[0m \u001b[0msix\u001b[0m\u001b[0;34m.\u001b[0m\u001b[0mstring_types\u001b[0m\u001b[0;34m)\u001b[0m\u001b[0;34m:\u001b[0m\u001b[0;34m\u001b[0m\u001b[0;34m\u001b[0m\u001b[0m\n\u001b[1;32m    186\u001b[0m       \u001b[0mloader_impl\u001b[0m\u001b[0;34m.\u001b[0m\u001b[0mparse_saved_model\u001b[0m\u001b[0;34m(\u001b[0m\u001b[0mfilepath\u001b[0m\u001b[0;34m)\u001b[0m\u001b[0;34m\u001b[0m\u001b[0;34m\u001b[0m\u001b[0m\n\u001b[0;32m--> 187\u001b[0;31m       \u001b[0;32mreturn\u001b[0m \u001b[0msaved_model_load\u001b[0m\u001b[0;34m.\u001b[0m\u001b[0mload\u001b[0m\u001b[0;34m(\u001b[0m\u001b[0mfilepath\u001b[0m\u001b[0;34m,\u001b[0m \u001b[0mcompile\u001b[0m\u001b[0;34m,\u001b[0m \u001b[0moptions\u001b[0m\u001b[0;34m)\u001b[0m\u001b[0;34m\u001b[0m\u001b[0;34m\u001b[0m\u001b[0m\n\u001b[0m\u001b[1;32m    188\u001b[0m \u001b[0;34m\u001b[0m\u001b[0m\n\u001b[1;32m    189\u001b[0m   raise IOError(\n",
      "\u001b[0;32m~/.local/lib/python3.8/site-packages/tensorflow/python/keras/saving/saved_model/load.py\u001b[0m in \u001b[0;36mload\u001b[0;34m(path, compile, options)\u001b[0m\n\u001b[1;32m    118\u001b[0m   \u001b[0;31m# TODO(kathywu): Add code to load from objects that contain all endpoints\u001b[0m\u001b[0;34m\u001b[0m\u001b[0;34m\u001b[0m\u001b[0;34m\u001b[0m\u001b[0m\n\u001b[1;32m    119\u001b[0m \u001b[0;34m\u001b[0m\u001b[0m\n\u001b[0;32m--> 120\u001b[0;31m   model = tf_load.load_internal(\n\u001b[0m\u001b[1;32m    121\u001b[0m       path, options=options, loader_cls=KerasObjectLoader)\n\u001b[1;32m    122\u001b[0m \u001b[0;34m\u001b[0m\u001b[0m\n",
      "\u001b[0;32m~/.local/lib/python3.8/site-packages/tensorflow/python/saved_model/load.py\u001b[0m in \u001b[0;36mload_internal\u001b[0;34m(export_dir, tags, options, loader_cls)\u001b[0m\n\u001b[1;32m    630\u001b[0m     \u001b[0;32mwith\u001b[0m \u001b[0mops\u001b[0m\u001b[0;34m.\u001b[0m\u001b[0minit_scope\u001b[0m\u001b[0;34m(\u001b[0m\u001b[0;34m)\u001b[0m\u001b[0;34m:\u001b[0m\u001b[0;34m\u001b[0m\u001b[0;34m\u001b[0m\u001b[0m\n\u001b[1;32m    631\u001b[0m       \u001b[0;32mtry\u001b[0m\u001b[0;34m:\u001b[0m\u001b[0;34m\u001b[0m\u001b[0;34m\u001b[0m\u001b[0m\n\u001b[0;32m--> 632\u001b[0;31m         loader = loader_cls(object_graph_proto, saved_model_proto, export_dir,\n\u001b[0m\u001b[1;32m    633\u001b[0m                             ckpt_options)\n\u001b[1;32m    634\u001b[0m       \u001b[0;32mexcept\u001b[0m \u001b[0merrors\u001b[0m\u001b[0;34m.\u001b[0m\u001b[0mNotFoundError\u001b[0m \u001b[0;32mas\u001b[0m \u001b[0merr\u001b[0m\u001b[0;34m:\u001b[0m\u001b[0;34m\u001b[0m\u001b[0;34m\u001b[0m\u001b[0m\n",
      "\u001b[0;32m~/.local/lib/python3.8/site-packages/tensorflow/python/keras/saving/saved_model/load.py\u001b[0m in \u001b[0;36m__init__\u001b[0;34m(self, *args, **kwargs)\u001b[0m\n\u001b[1;32m    192\u001b[0m     \u001b[0mself\u001b[0m\u001b[0;34m.\u001b[0m\u001b[0m_models_to_reconstruct\u001b[0m \u001b[0;34m=\u001b[0m \u001b[0;34m[\u001b[0m\u001b[0;34m]\u001b[0m\u001b[0;34m\u001b[0m\u001b[0;34m\u001b[0m\u001b[0m\n\u001b[1;32m    193\u001b[0m \u001b[0;34m\u001b[0m\u001b[0m\n\u001b[0;32m--> 194\u001b[0;31m     \u001b[0msuper\u001b[0m\u001b[0;34m(\u001b[0m\u001b[0mKerasObjectLoader\u001b[0m\u001b[0;34m,\u001b[0m \u001b[0mself\u001b[0m\u001b[0;34m)\u001b[0m\u001b[0;34m.\u001b[0m\u001b[0m__init__\u001b[0m\u001b[0;34m(\u001b[0m\u001b[0;34m*\u001b[0m\u001b[0margs\u001b[0m\u001b[0;34m,\u001b[0m \u001b[0;34m**\u001b[0m\u001b[0mkwargs\u001b[0m\u001b[0;34m)\u001b[0m\u001b[0;34m\u001b[0m\u001b[0;34m\u001b[0m\u001b[0m\n\u001b[0m\u001b[1;32m    195\u001b[0m \u001b[0;34m\u001b[0m\u001b[0m\n\u001b[1;32m    196\u001b[0m     \u001b[0;31m# Now that the node object has been fully loaded, and the checkpoint has\u001b[0m\u001b[0;34m\u001b[0m\u001b[0;34m\u001b[0m\u001b[0;34m\u001b[0m\u001b[0m\n",
      "\u001b[0;32m~/.local/lib/python3.8/site-packages/tensorflow/python/saved_model/load.py\u001b[0m in \u001b[0;36m__init__\u001b[0;34m(self, object_graph_proto, saved_model_proto, export_dir, ckpt_options)\u001b[0m\n\u001b[1;32m    128\u001b[0m       \u001b[0mself\u001b[0m\u001b[0;34m.\u001b[0m\u001b[0m_concrete_functions\u001b[0m\u001b[0;34m[\u001b[0m\u001b[0mname\u001b[0m\u001b[0;34m]\u001b[0m \u001b[0;34m=\u001b[0m \u001b[0m_WrapperFunction\u001b[0m\u001b[0;34m(\u001b[0m\u001b[0mconcrete_function\u001b[0m\u001b[0;34m)\u001b[0m\u001b[0;34m\u001b[0m\u001b[0;34m\u001b[0m\u001b[0m\n\u001b[1;32m    129\u001b[0m \u001b[0;34m\u001b[0m\u001b[0m\n\u001b[0;32m--> 130\u001b[0;31m     \u001b[0mself\u001b[0m\u001b[0;34m.\u001b[0m\u001b[0m_load_all\u001b[0m\u001b[0;34m(\u001b[0m\u001b[0;34m)\u001b[0m\u001b[0;34m\u001b[0m\u001b[0;34m\u001b[0m\u001b[0m\n\u001b[0m\u001b[1;32m    131\u001b[0m     \u001b[0mself\u001b[0m\u001b[0;34m.\u001b[0m\u001b[0m_restore_checkpoint\u001b[0m\u001b[0;34m(\u001b[0m\u001b[0;34m)\u001b[0m\u001b[0;34m\u001b[0m\u001b[0;34m\u001b[0m\u001b[0m\n\u001b[1;32m    132\u001b[0m \u001b[0;34m\u001b[0m\u001b[0m\n",
      "\u001b[0;32m~/.local/lib/python3.8/site-packages/tensorflow/python/keras/saving/saved_model/load.py\u001b[0m in \u001b[0;36m_load_all\u001b[0;34m(self)\u001b[0m\n\u001b[1;32m    213\u001b[0m     \u001b[0;31m# loaded from config may create variables / other objects during\u001b[0m\u001b[0;34m\u001b[0m\u001b[0;34m\u001b[0m\u001b[0;34m\u001b[0m\u001b[0m\n\u001b[1;32m    214\u001b[0m     \u001b[0;31m# initialization. These are recorded in `_nodes_recreated_from_config`.\u001b[0m\u001b[0;34m\u001b[0m\u001b[0;34m\u001b[0m\u001b[0;34m\u001b[0m\u001b[0m\n\u001b[0;32m--> 215\u001b[0;31m     \u001b[0mself\u001b[0m\u001b[0;34m.\u001b[0m\u001b[0m_layer_nodes\u001b[0m \u001b[0;34m=\u001b[0m \u001b[0mself\u001b[0m\u001b[0;34m.\u001b[0m\u001b[0m_load_layers\u001b[0m\u001b[0;34m(\u001b[0m\u001b[0;34m)\u001b[0m\u001b[0;34m\u001b[0m\u001b[0;34m\u001b[0m\u001b[0m\n\u001b[0m\u001b[1;32m    216\u001b[0m \u001b[0;34m\u001b[0m\u001b[0m\n\u001b[1;32m    217\u001b[0m     \u001b[0;31m# Load all other nodes and functions.\u001b[0m\u001b[0;34m\u001b[0m\u001b[0;34m\u001b[0m\u001b[0;34m\u001b[0m\u001b[0m\n",
      "\u001b[0;32m~/.local/lib/python3.8/site-packages/tensorflow/python/keras/saving/saved_model/load.py\u001b[0m in \u001b[0;36m_load_layers\u001b[0;34m(self)\u001b[0m\n\u001b[1;32m    316\u001b[0m \u001b[0;34m\u001b[0m\u001b[0m\n\u001b[1;32m    317\u001b[0m     \u001b[0;32mfor\u001b[0m \u001b[0mnode_id\u001b[0m\u001b[0;34m,\u001b[0m \u001b[0mproto\u001b[0m \u001b[0;32min\u001b[0m \u001b[0mmetric_list\u001b[0m\u001b[0;34m:\u001b[0m\u001b[0;34m\u001b[0m\u001b[0;34m\u001b[0m\u001b[0m\n\u001b[0;32m--> 318\u001b[0;31m       \u001b[0mlayers\u001b[0m\u001b[0;34m[\u001b[0m\u001b[0mnode_id\u001b[0m\u001b[0;34m]\u001b[0m \u001b[0;34m=\u001b[0m \u001b[0mself\u001b[0m\u001b[0;34m.\u001b[0m\u001b[0m_load_layer\u001b[0m\u001b[0;34m(\u001b[0m\u001b[0mproto\u001b[0m\u001b[0;34m.\u001b[0m\u001b[0muser_object\u001b[0m\u001b[0;34m,\u001b[0m \u001b[0mnode_id\u001b[0m\u001b[0;34m)\u001b[0m\u001b[0;34m\u001b[0m\u001b[0;34m\u001b[0m\u001b[0m\n\u001b[0m\u001b[1;32m    319\u001b[0m     \u001b[0;32mreturn\u001b[0m \u001b[0mlayers\u001b[0m\u001b[0;34m\u001b[0m\u001b[0;34m\u001b[0m\u001b[0m\n\u001b[1;32m    320\u001b[0m \u001b[0;34m\u001b[0m\u001b[0m\n",
      "\u001b[0;32m~/.local/lib/python3.8/site-packages/tensorflow/python/keras/saving/saved_model/load.py\u001b[0m in \u001b[0;36m_load_layer\u001b[0;34m(self, proto, node_id)\u001b[0m\n\u001b[1;32m    341\u001b[0m     \u001b[0mobj\u001b[0m\u001b[0;34m,\u001b[0m \u001b[0msetter\u001b[0m \u001b[0;34m=\u001b[0m \u001b[0mself\u001b[0m\u001b[0;34m.\u001b[0m\u001b[0m_revive_from_config\u001b[0m\u001b[0;34m(\u001b[0m\u001b[0mproto\u001b[0m\u001b[0;34m.\u001b[0m\u001b[0midentifier\u001b[0m\u001b[0;34m,\u001b[0m \u001b[0mmetadata\u001b[0m\u001b[0;34m,\u001b[0m \u001b[0mnode_id\u001b[0m\u001b[0;34m)\u001b[0m\u001b[0;34m\u001b[0m\u001b[0;34m\u001b[0m\u001b[0m\n\u001b[1;32m    342\u001b[0m     \u001b[0;32mif\u001b[0m \u001b[0mobj\u001b[0m \u001b[0;32mis\u001b[0m \u001b[0;32mNone\u001b[0m\u001b[0;34m:\u001b[0m\u001b[0;34m\u001b[0m\u001b[0;34m\u001b[0m\u001b[0m\n\u001b[0;32m--> 343\u001b[0;31m       \u001b[0mobj\u001b[0m\u001b[0;34m,\u001b[0m \u001b[0msetter\u001b[0m \u001b[0;34m=\u001b[0m \u001b[0mrevive_custom_object\u001b[0m\u001b[0;34m(\u001b[0m\u001b[0mproto\u001b[0m\u001b[0;34m.\u001b[0m\u001b[0midentifier\u001b[0m\u001b[0;34m,\u001b[0m \u001b[0mmetadata\u001b[0m\u001b[0;34m)\u001b[0m\u001b[0;34m\u001b[0m\u001b[0;34m\u001b[0m\u001b[0m\n\u001b[0m\u001b[1;32m    344\u001b[0m \u001b[0;34m\u001b[0m\u001b[0m\n\u001b[1;32m    345\u001b[0m     \u001b[0;31m# Add an attribute that stores the extra functions/objects saved in the\u001b[0m\u001b[0;34m\u001b[0m\u001b[0;34m\u001b[0m\u001b[0;34m\u001b[0m\u001b[0m\n",
      "\u001b[0;32m~/.local/lib/python3.8/site-packages/tensorflow/python/keras/saving/saved_model/load.py\u001b[0m in \u001b[0;36mrevive_custom_object\u001b[0;34m(identifier, metadata)\u001b[0m\n\u001b[1;32m    840\u001b[0m     \u001b[0;32mreturn\u001b[0m \u001b[0mrevived_cls\u001b[0m\u001b[0;34m.\u001b[0m\u001b[0m_init_from_metadata\u001b[0m\u001b[0;34m(\u001b[0m\u001b[0mmetadata\u001b[0m\u001b[0;34m)\u001b[0m  \u001b[0;31m# pylint: disable=protected-access\u001b[0m\u001b[0;34m\u001b[0m\u001b[0;34m\u001b[0m\u001b[0m\n\u001b[1;32m    841\u001b[0m   \u001b[0;32melse\u001b[0m\u001b[0;34m:\u001b[0m\u001b[0;34m\u001b[0m\u001b[0;34m\u001b[0m\u001b[0m\n\u001b[0;32m--> 842\u001b[0;31m     raise ValueError('Unable to restore custom object of type {} currently. '\n\u001b[0m\u001b[1;32m    843\u001b[0m                      \u001b[0;34m'Please make sure that the layer implements `get_config`'\u001b[0m\u001b[0;34m\u001b[0m\u001b[0;34m\u001b[0m\u001b[0m\n\u001b[1;32m    844\u001b[0m                      \u001b[0;34m'and `from_config` when saving. In addition, please use '\u001b[0m\u001b[0;34m\u001b[0m\u001b[0;34m\u001b[0m\u001b[0m\n",
      "\u001b[0;31mValueError\u001b[0m: Unable to restore custom object of type _tf_keras_metric currently. Please make sure that the layer implements `get_config`and `from_config` when saving. In addition, please use the `custom_objects` arg when calling `load_model()`."
     ]
    }
   ],
   "source": [
    "# load pre-trained model (as a test)\n",
    "model = tf.keras.models.load_model('saved_model/_EntropyLoss_1_10_M_0', custom_objects={ 'loss':custom_loss1dMBPrime })\n",
    "\n",
    "# Check its architecture\n",
    "model.summary()"
   ]
  },
  {
   "cell_type": "code",
   "execution_count": 50,
   "metadata": {},
   "outputs": [],
   "source": [
    "#### Review loaded history ####"
   ]
  },
  {
   "cell_type": "code",
   "execution_count": null,
   "metadata": {},
   "outputs": [],
   "source": [
    "import pickle\n",
    "\n",
    "history = pickle.load(open('saved_model/_EntropyLoss_1_300_M_0_hist.pickle', \"rb\") )\n",
    "\n",
    "# summarize history for loss\n",
    "plt.plot(history['loss'][100:])\n",
    "plt.plot(history['val_loss'][100:])\n",
    "plt.title('model loss')\n",
    "plt.ylabel('loss')\n",
    "plt.xlabel('epoch')\n",
    "plt.legend(['train', 'test'], loc='upper left')\n",
    "plt.show()\n",
    "\n",
    "plt.plot(history['val_loss'])\n",
    "plt.title('model loss')\n",
    "plt.ylabel('loss')\n",
    "plt.xlabel('epoch')\n",
    "plt.legend(['test'], loc='upper left')\n",
    "plt.show()"
   ]
  },
  {
   "cell_type": "markdown",
   "metadata": {},
   "source": [
    "#### Test the model ####\n",
    "\n",
    "Use alphas computed with a Newton solver"
   ]
  },
  {
   "cell_type": "code",
   "execution_count": null,
   "metadata": {},
   "outputs": [],
   "source": [
    "(xDataTrain,yDataTrain,xDataTest,yDataTest)=split_data(preprocess_data(\"testSetM_0.csv\"),0.0)\n",
    "\n",
    "#Check Test Data\n",
    "print(xDataTrain.shape)\n",
    "print(yDataTrain.shape)\n",
    "print(xDataTest.shape)\n",
    "print(yDataTest.shape)\n",
    "\n",
    "print(xDataTrain[:,0])\n",
    "plt.figure()\n",
    "plt.plot(xDataTrain[:12])\n",
    "plt.xlabel('id')\n",
    "plt.ylabel('u')\n",
    "plt.show()\n",
    "\n",
    "x = np.array([1,2,4,5])\n",
    "y = np.array([1,0,1,0])\n",
    "print(x.shape)\n",
    "plt.figure()\n",
    "plt.plot(xDataTrain[:,0],yDataTrain[:,0], 'o')\n",
    "plt.xlabel('u')\n",
    "plt.ylabel('alpha')\n",
    "plt.show()\n",
    "\n",
    "\n",
    "\n",
    "score = model.evaluate(np.asarray(xDataTrain), np.asarray(xDataTrain))\n",
    "print('Test score:', score[0])\n",
    "print('Test accuracy:', score[1])\n",
    "\n",
    "\n",
    "pred = model.predict(np.asarray(xDataTrain))\n",
    "print(pred.shape)\n",
    "\n",
    "plt.figure()\n",
    "plt.plot(xDataTrain[:,0],pred[:,0], 'o')\n",
    "plt.xlabel('u')\n",
    "plt.ylabel('alpha')\n",
    "plt.show()"
   ]
  },
  {
   "cell_type": "markdown",
   "metadata": {},
   "source": [
    "#### The more complicated case ###"
   ]
  },
  {
   "cell_type": "code",
   "execution_count": null,
   "metadata": {
    "colab": {},
    "colab_type": "code",
    "id": "hS9H_h8BgK_g"
   },
   "outputs": [],
   "source": [
    "## Define the custom loss function\n",
    "def minimal_Entropy_Loss(u,alpha):\n",
    "\n",
    "  # Compute the spherical harmonics ( up to degree 2, hardcoded for testing puproses)\n",
    "  def spherical_harmonics(my, phi):\n",
    "    m = np.zeros(9)\n",
    "    m[0] = np.sqrt(1/(4*np.pi))\n",
    "    \n",
    "    m[1] = -1* np.sqrt(3/(4*np.pi))*np.sqrt(1-my*my)*np.sin(phi)\n",
    "    m[2] = np.sqrt(3/(4*np.pi))*my\n",
    "    m[3] = -1*np.sqrt(3/(4*np.pi))*np.sqrt(1-my*my)*np.cos(phi)\n",
    "\n",
    "   # m[4] = np.sqrt(15/(16*np.pi)) * (1-my*my) * np.sin(2 * phi)\n",
    "   # m[5] = -1 * np.sqrt(15/(4*np.pi)) * my * np.sqrt(1-my*my) * sin(phi)\n",
    "   # m[6] = np.sqrt(5/(16*np.pi))*(3*my*my-1)\n",
    "   # m[7] = -1 * sqrt(15/(4 * np.pi)) * np.sqrt(1-my * my) * np.cos(phi)\n",
    "   # m[8] = np.sqrt(15/(16* np.pi))*(1-my * my) * np.cos(2*phi)\n",
    "\n",
    "  return m\n",
    "\n",
    "  # Set integration points\n",
    "  def setPointsWeights(order):\n",
    "    # legendre points and weights to interpolate my\n",
    "    (my,w) = np.polynomial.legendre.leggauss(order)\n",
    "\n",
    "    # points and weights to interpolate phi\n",
    "    phi = np.zeros(order)\n",
    "   \n",
    "    for i in range(0,order):\n",
    "        phi[i] = (i+0.5)*np.pi/ order\n",
    "\n",
    "    #tensorized points and weights\n",
    "    nq =  2 * pow(order, 2 )\n",
    "\n",
    "    pointsOut = np.zeros([2,nq])\n",
    "    weightsOut = np.zeros(nq)\n",
    "    for j in range(0,order):\n",
    "      for i in range(0,order):\n",
    "        pointsOut[j * ( 2 * order ) + i,0] = my[j]\n",
    "        pointsOut[j * ( 2 * order ) + i,1] = phi[i]\n",
    "        weightsOut[j * ( 2 * order ) + i] = np.pi / order * w[j]\n",
    "\n",
    "    return (pointsOut,weightsOut)\n",
    "   \n",
    "  def entropy_MB(alpha,m):\n",
    "     return exp(alpa*m)\n",
    "  # define the entropy part\n",
    "  def entropy_part(alpha):\n",
    "\n",
    "    result  = 0.0\n",
    "\n",
    "    (points ,weights) = setPointsWeights(12) # order 12\n",
    "\n",
    "    for i in range(0,weights.size):\n",
    "      m = spherical_harmonics(points[i,0], points[i,1])\n",
    "\n",
    "      result+=entropyDual(alpha, m)*weights[i]\n",
    "\n",
    "\n",
    "    return result\n",
    "\n",
    "  # Stack together the loss function\n",
    "  loss = entropy_part(alpha) - alpha*u;\n",
    "  return loss\n"
   ]
  }
 ],
 "metadata": {
  "accelerator": "GPU",
  "colab": {
   "collapsed_sections": [],
   "name": "EntropyTrainer.ipynb",
   "provenance": []
  },
  "kernelspec": {
   "display_name": "Python 3",
   "language": "python",
   "name": "python3"
  },
  "language_info": {
   "codemirror_mode": {
    "name": "ipython",
    "version": 3
   },
   "file_extension": ".py",
   "mimetype": "text/x-python",
   "name": "python",
   "nbconvert_exporter": "python",
   "pygments_lexer": "ipython3",
   "version": "3.8.3"
  }
 },
 "nbformat": 4,
 "nbformat_minor": 1
}
