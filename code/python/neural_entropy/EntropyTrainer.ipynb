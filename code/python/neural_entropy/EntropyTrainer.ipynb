{
 "cells": [
  {
   "cell_type": "markdown",
   "metadata": {
    "colab_type": "text",
    "id": "Ufb5Oc9LHkOd"
   },
   "source": [
    "# Test NN for Entropy Closure #\n",
    "\n",
    "Test Data is generated from RTSN code"
   ]
  },
  {
   "cell_type": "markdown",
   "metadata": {
    "colab_type": "text",
    "id": "Zs9ZGENoItzq"
   },
   "source": [
    "Load all needed modules"
   ]
  },
  {
   "cell_type": "code",
   "execution_count": 1,
   "metadata": {},
   "outputs": [],
   "source": [
    "# Imports\n",
    "import pandas as pd\n",
    "import random                        # for generating random numbers\n",
    "import numpy as np\n",
    "import tensorflow as tf\n",
    "from tensorflow import keras\n",
    "import matplotlib.pyplot as plt      # MATLAB like plotting routines\n",
    "from sklearn.preprocessing import normalize"
   ]
  },
  {
   "cell_type": "markdown",
   "metadata": {
    "colab_type": "text",
    "id": "Z9bPtTIHIxnR"
   },
   "source": [
    "Load and preprocess Training Data"
   ]
  },
  {
   "cell_type": "code",
   "execution_count": 2,
   "metadata": {
    "colab": {
     "base_uri": "https://localhost:8080/",
     "height": 78,
     "resources": {
      "http://localhost:8080/nbextensions/google.colab/files.js": {
       "data": "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",
       "headers": [
        [
         "content-type",
         "application/javascript"
        ]
       ],
       "ok": true,
       "status": 200,
       "status_text": "OK"
      }
     }
    },
    "colab_type": "code",
    "id": "tbAk6wxEJt8J",
    "outputId": "43ee9205-39a1-4f74-dd6a-1a2ce5c89030"
   },
   "outputs": [],
   "source": [
    "def preprocess_data(filename):\n",
    "    # reading csv file\n",
    "    dataFrameInput = pd.read_csv(filename) #outputs a dataframe object\n",
    "\n",
    "    idx = 0\n",
    "    xDataList = list()\n",
    "    yDataList = list()\n",
    "    data = dataFrameInput.values  # numpy array\n",
    "\n",
    "    ## Somehow t = 0 has an odd number of elements, just cut it out\n",
    "\n",
    "    for row in data:\n",
    "        if (row[2] > 0):\n",
    "            if (idx % 2 == 0):\n",
    "                xDataList.append(row)\n",
    "            else:\n",
    "                yDataList.append(row)\n",
    "\n",
    "            idx = idx + 1\n",
    "\n",
    "    # merge the lists\n",
    "    DataList = list()\n",
    "    for rowX, rowY in zip(xDataList, yDataList):\n",
    "        DataList.append([rowX, rowY])\n",
    "\n",
    "    # Shuffle data\n",
    "\n",
    "    random.shuffle(DataList)\n",
    "\n",
    "    DataArray = np.asarray(DataList)\n",
    "    #print(DataArray.shape)\n",
    "\n",
    "    # Strip off header information, i.e. the first 3 cols\n",
    "    DataArraySlim = DataArray[:, :, 3:]\n",
    "    #print(DataArraySlim.shape)\n",
    "\n",
    "    # split in train and test data (ratio 4:1)\n",
    "    DataTrain = DataArraySlim[:4 * int(DataArraySlim.shape[0] / 5)]\n",
    "    DataTest = DataArraySlim[4 * int(DataArraySlim.shape[0] / 5):]\n",
    "\n",
    "    # Split in x (input) and y (output) data\n",
    "    xDataTrain = DataTrain[:, 0, :]\n",
    "    yDataTrain = DataTrain[:, 1, :]\n",
    "    xDataTest = DataTest[:, 0, :]\n",
    "    yDataTest = DataTest[:, 1, :]\n",
    "\n",
    "    #Normalize Input\n",
    "    xDataTrain = normalize(xDataTrain, axis=1, norm='l1')\n",
    "    xDataTest = normalize(xDataTest, axis=1, norm='l1')\n",
    "\n",
    "    return (xDataTrain,yDataTrain,xDataTest,yDataTest)"
   ]
  },
  {
   "cell_type": "markdown",
   "metadata": {
    "colab_type": "text",
    "id": "N2NZasiqKFm_"
   },
   "source": [
    "Review Training Data"
   ]
  },
  {
   "cell_type": "code",
   "execution_count": 3,
   "metadata": {},
   "outputs": [],
   "source": [
    "# Load the Data\n",
    "(xDataTrain,yDataTrain,xDataTest,yDataTest) = preprocess_data(\"trainNN.csv\")\n"
   ]
  },
  {
   "cell_type": "markdown",
   "metadata": {
    "colab_type": "text",
    "id": "zmHBl9XYLa4q"
   },
   "source": [
    "## Start the Neural Network ##\n",
    "First, load the needed python modules\n"
   ]
  },
  {
   "cell_type": "markdown",
   "metadata": {
    "colab_type": "text",
    "id": "Idh6eJsZUhZj"
   },
   "source": [
    "##Build the Network - Take one: Simple FCN (Fully connected Network) ###\n",
    "\n",
    "* Input: Solution of the Kinetic solver at time-step n and a cell, called u \n",
    "* Output: Legendre multiplier of the entropy closure, called alpha\n",
    "\n",
    "u and alpha have the same length, which is given by the size of the moment basis.\n",
    "\n"
   ]
  },
  {
   "cell_type": "code",
   "execution_count": 4,
   "metadata": {
    "colab": {},
    "colab_type": "code",
    "id": "_piriejwUY6I"
   },
   "outputs": [],
   "source": [
    "import tensorflow as tf\n",
    "from tensorflow import keras\n",
    "from tensorflow.keras import layers\n",
    "from tensorflow.keras.utils import plot_model\n",
    "# Build the network:\n",
    "def create_model():\n",
    "  model = tf.keras.models.Sequential([\n",
    "    keras.layers.Dense(256, activation='relu', input_shape=(4,)),\n",
    "    keras.layers.Dropout(0.2),\n",
    "    keras.layers.Dense(512, activation='relu', input_shape=(64,)),\n",
    "    keras.layers.Dropout(0.2),\n",
    "    keras.layers.Dense(256, activation='relu', input_shape=(256,)),\n",
    "    keras.layers.Dropout(0.2),\n",
    "    keras.layers.Dense(128, activation='relu', input_shape=(128,)),\n",
    "    keras.layers.Dropout(0.2),\n",
    "    keras.layers.Dense(4,)\n",
    "  ])\n",
    "\n",
    "  model.summary()\n",
    "  #plot_model(model, to_file='model_plot.png', show_shapes=True, show_layer_names=True)\n",
    "  '''\n",
    "  bfgs_opt = tfp.optimizer.bfgs_minimize(\n",
    "    value_and_gradients_function, initial_position, tolerance=1e-08, x_tolerance=0,\n",
    "    f_relative_tolerance=0, initial_inverse_hessian_estimate=None,\n",
    "    max_iterations=50, parallel_iterations=1, stopping_condition=None,\n",
    "    validate_args=True, max_line_search_iterations=50, name=None\n",
    "    )\n",
    "  '''\n",
    "  model.compile(loss=tf.keras.losses.MeanSquaredError(), optimizer='adam', metrics=['accuracy'])\n",
    "\n",
    "  return model\n"
   ]
  },
  {
   "cell_type": "markdown",
   "metadata": {
    "colab_type": "text",
    "id": "j7bZnd0QWdou"
   },
   "source": [
    "### Compile the model ###"
   ]
  },
  {
   "cell_type": "code",
   "execution_count": 5,
   "metadata": {
    "colab": {
     "base_uri": "https://localhost:8080/",
     "height": 495
    },
    "colab_type": "code",
    "id": "_UJ-kksOWdMN",
    "outputId": "cb9e61a8-9dc4-4d2b-871b-28722435db0b"
   },
   "outputs": [
    {
     "name": "stdout",
     "output_type": "stream",
     "text": [
      "Model: \"sequential\"\n",
      "_________________________________________________________________\n",
      "Layer (type)                 Output Shape              Param #   \n",
      "=================================================================\n",
      "dense (Dense)                (None, 256)               1280      \n",
      "_________________________________________________________________\n",
      "dropout (Dropout)            (None, 256)               0         \n",
      "_________________________________________________________________\n",
      "dense_1 (Dense)              (None, 512)               131584    \n",
      "_________________________________________________________________\n",
      "dropout_1 (Dropout)          (None, 512)               0         \n",
      "_________________________________________________________________\n",
      "dense_2 (Dense)              (None, 256)               131328    \n",
      "_________________________________________________________________\n",
      "dropout_2 (Dropout)          (None, 256)               0         \n",
      "_________________________________________________________________\n",
      "dense_3 (Dense)              (None, 128)               32896     \n",
      "_________________________________________________________________\n",
      "dropout_3 (Dropout)          (None, 128)               0         \n",
      "_________________________________________________________________\n",
      "dense_4 (Dense)              (None, 4)                 516       \n",
      "=================================================================\n",
      "Total params: 297,604\n",
      "Trainable params: 297,604\n",
      "Non-trainable params: 0\n",
      "_________________________________________________________________\n"
     ]
    }
   ],
   "source": [
    "model = create_model()\n",
    "\n",
    "# Let's use the Adam optimizer for learning\n",
    "#model.compile(loss=tf.keras.losses.MeanSquaredError(), optimizer='adam', metrics=['accuracy'])"
   ]
  },
  {
   "cell_type": "markdown",
   "metadata": {
    "colab_type": "text",
    "id": "HSIghzZCW41n"
   },
   "source": [
    "## Train the model ##\n"
   ]
  },
  {
   "cell_type": "code",
   "execution_count": 6,
   "metadata": {
    "colab": {
     "base_uri": "https://localhost:8080/",
     "height": 862
    },
    "colab_type": "code",
    "id": "tA1P9EwUW9bh",
    "outputId": "76cd7455-2388-4cb6-8d3b-6d8a6cd8f6b4"
   },
   "outputs": [
    {
     "name": "stdout",
     "output_type": "stream",
     "text": [
      "Model: \"sequential_1\"\n",
      "_________________________________________________________________\n",
      "Layer (type)                 Output Shape              Param #   \n",
      "=================================================================\n",
      "dense_5 (Dense)              (None, 256)               1280      \n",
      "_________________________________________________________________\n",
      "dropout_4 (Dropout)          (None, 256)               0         \n",
      "_________________________________________________________________\n",
      "dense_6 (Dense)              (None, 512)               131584    \n",
      "_________________________________________________________________\n",
      "dropout_5 (Dropout)          (None, 512)               0         \n",
      "_________________________________________________________________\n",
      "dense_7 (Dense)              (None, 256)               131328    \n",
      "_________________________________________________________________\n",
      "dropout_6 (Dropout)          (None, 256)               0         \n",
      "_________________________________________________________________\n",
      "dense_8 (Dense)              (None, 128)               32896     \n",
      "_________________________________________________________________\n",
      "dropout_7 (Dropout)          (None, 128)               0         \n",
      "_________________________________________________________________\n",
      "dense_9 (Dense)              (None, 4)                 516       \n",
      "=================================================================\n",
      "Total params: 297,604\n",
      "Trainable params: 297,604\n",
      "Non-trainable params: 0\n",
      "_________________________________________________________________\n",
      "50227/50227 [==============================] - 154s 3ms/step - loss: 7.3661 - accuracy: 0.4904 - val_loss: 5.1980 - val_accuracy: 0.9268\n",
      "dict_keys(['loss', 'accuracy', 'val_loss', 'val_accuracy'])\n"
     ]
    },
    {
     "data": {
      "image/png": "[encoded data removed]",
      "text/plain": [
       "<Figure size 432x288 with 1 Axes>"
      ]
     },
     "metadata": {
      "needs_background": "light"
     },
     "output_type": "display_data"
    },
    {
     "data": {
      "image/png": "[encoded data removed]",
      "text/plain": [
       "<Figure size 432x288 with 1 Axes>"
      ]
     },
     "metadata": {
      "needs_background": "light"
     },
     "output_type": "display_data"
    }
   ],
   "source": [
    "#from tensorflow.keras.callbacks import ReduceLROnPlateau\n",
    "\n",
    "#rlrop = ReduceLROnPlateau(monitor='val_loss', factor=0.1, patience=100)\n",
    "\n",
    "\n",
    "# Create the model\n",
    "model = create_model()\n",
    "\n",
    "history = model.fit(xDataTrain, yDataTrain,validation_split=0.33, epochs=1, batch_size=10, verbose=1)\n",
    "\n",
    "print(history.history.keys())\n",
    "plt.plot(history.history['accuracy'])\n",
    "plt.plot(history.history['val_accuracy'])\n",
    "plt.title('model accuracy')\n",
    "plt.ylabel('accuracy')\n",
    "plt.xlabel('epoch')\n",
    "plt.legend(['train', 'test'], loc='upper left')\n",
    "plt.show()\n",
    "# summarize history for loss\n",
    "plt.plot(history.history['loss'])\n",
    "plt.plot(history.history['val_loss'])\n",
    "plt.title('model loss')\n",
    "plt.ylabel('loss')\n",
    "plt.xlabel('epoch')\n",
    "plt.legend(['train', 'test'], loc='upper left')\n",
    "plt.show()"
   ]
  },
  {
   "cell_type": "markdown",
   "metadata": {
    "colab_type": "text",
    "id": "Uw9gWsZm7gXr"
   },
   "source": [
    "## Evaluate the Model accuracy\n"
   ]
  },
  {
   "cell_type": "code",
   "execution_count": 7,
   "metadata": {
    "colab": {},
    "colab_type": "code",
    "id": "FkW8CoZl7rNn"
   },
   "outputs": [
    {
     "name": "stdout",
     "output_type": "stream",
     "text": [
      "5857/5857 [==============================] - 5s 841us/step - loss: 5.2513 - accuracy: 0.9269\n",
      "Test score: 5.251279830932617\n",
      "Test accuracy: 0.9269158244132996\n"
     ]
    }
   ],
   "source": [
    "score = model.evaluate(xDataTest, yDataTest)\n",
    "print('Test score:', score[0])\n",
    "print('Test accuracy:', score[1])"
   ]
  },
  {
   "cell_type": "markdown",
   "metadata": {
    "colab_type": "text",
    "id": "G3z1HCkGQJP_"
   },
   "source": [
    "##Make a prediction"
   ]
  },
  {
   "cell_type": "code",
   "execution_count": 8,
   "metadata": {
    "colab": {},
    "colab_type": "code",
    "id": "Q9EU3H2hQNgX"
   },
   "outputs": [
    {
     "name": "stdout",
     "output_type": "stream",
     "text": [
      "(1, 4)\n",
      "[[-10.372878     8.148684     0.02365703   9.866678  ]]\n"
     ]
    }
   ],
   "source": [
    "print(np.asarray([xDataTest[0]]).shape)\n",
    "pred = model.predict(np.asarray([xDataTest[0]]))\n",
    "print(pred)"
   ]
  },
  {
   "cell_type": "markdown",
   "metadata": {
    "colab_type": "text",
    "id": "33xsSsD5YeA0"
   },
   "source": [
    "## Save trained model"
   ]
  },
  {
   "cell_type": "code",
   "execution_count": 9,
   "metadata": {
    "colab": {},
    "colab_type": "code",
    "id": "iCgbAY22YdFo"
   },
   "outputs": [
    {
     "name": "stdout",
     "output_type": "stream",
     "text": [
      "2.3.0\n",
      "WARNING:tensorflow:From /home/steffen/.local/lib/python3.8/site-packages/tensorflow/python/training/tracking/tracking.py:111: Model.state_updates (from tensorflow.python.keras.engine.training) is deprecated and will be removed in a future version.\n",
      "Instructions for updating:\n",
      "This property should not be used in TensorFlow 2.0, as updates are applied automatically.\n",
      "WARNING:tensorflow:From /home/steffen/.local/lib/python3.8/site-packages/tensorflow/python/training/tracking/tracking.py:111: Layer.updates (from tensorflow.python.keras.engine.base_layer) is deprecated and will be removed in a future version.\n",
      "Instructions for updating:\n",
      "This property should not be used in TensorFlow 2.0, as updates are applied automatically.\n",
      "INFO:tensorflow:Assets written to: saved_model/my_model/assets\n"
     ]
    }
   ],
   "source": [
    "print(tf.version.VERSION)\n",
    "\n",
    "!mkdir -p saved_model\n",
    "model.save('saved_model/my_model')\n"
   ]
  },
  {
   "cell_type": "code",
   "execution_count": 10,
   "metadata": {
    "colab": {},
    "colab_type": "code",
    "id": "4mJTKJVzwxE5"
   },
   "outputs": [
    {
     "name": "stdout",
     "output_type": "stream",
     "text": [
      "  adding: saved_model/ (stored 0%)\n",
      "  adding: saved_model/my_model/ (stored 0%)\n",
      "  adding: saved_model/my_model/variables/ (stored 0%)\n",
      "  adding: saved_model/my_model/variables/variables.data-00000-of-00001 (deflated 10%)\n",
      "  adding: saved_model/my_model/variables/variables.index (deflated 67%)\n",
      "  adding: saved_model/my_model/saved_model.pb (deflated 90%)\n",
      "  adding: saved_model/my_model/assets/ (stored 0%)\n"
     ]
    }
   ],
   "source": [
    "# Prepare model for download\n",
    "\n",
    "!zip -r model.zip saved_model"
   ]
  },
  {
   "cell_type": "code",
   "execution_count": 12,
   "metadata": {
    "colab": {},
    "colab_type": "code",
    "id": "zxdU5YCdxGMo"
   },
   "outputs": [],
   "source": [
    "# download model\n",
    "#from google.colab import files\n",
    "#files.download(\"model.zip\")"
   ]
  },
  {
   "cell_type": "markdown",
   "metadata": {
    "colab_type": "text",
    "id": "-EcApWoWf8xk"
   },
   "source": [
    "## Take two: A more sophisticated Loss Function ##\n",
    "\n",
    "The Loss is defined as the Objective function of the minimal entropy problem:\n",
    "\n",
    "$L(u,\\alpha, \\theta) = <\\eta_*(\\alpha(\\theta) \\cdot m(v))>_v - \\alpha(\\theta) \\cdot u$\n",
    "\n",
    "\n",
    "\n"
   ]
  },
  {
   "cell_type": "markdown",
   "metadata": {},
   "source": [
    "#### Easiest case \n",
    "$\\alpha, u\\in\\mathbb{R}$\n",
    "\n",
    "Entropy $\\eta(\\alpha\\cdot m) = exp(\\alpha\\cdot m)$ \n",
    "\n",
    "Spherical harmonics basis for $M_0$: $ m_0 = \\sqrt{\\left(\\frac{1}{4\\pi}\\right)}$"
   ]
  },
  {
   "cell_type": "code",
   "execution_count": 15,
   "metadata": {},
   "outputs": [
    {
     "data": {
      "image/png": "[encoded data removed]",
      "text/plain": [
       "<Figure size 432x288 with 1 Axes>"
      ]
     },
     "metadata": {
      "needs_background": "light"
     },
     "output_type": "display_data"
    },
    {
     "data": {
      "image/png": "[encoded data removed]",
      "text/plain": [
       "<Figure size 432x288 with 1 Axes>"
      ]
     },
     "metadata": {
      "needs_background": "light"
     },
     "output_type": "display_data"
    },
    {
     "data": {
      "image/png": "[encoded data removed]",
      "text/plain": [
       "<Figure size 432x288 with 1 Axes>"
      ]
     },
     "metadata": {
      "needs_background": "light"
     },
     "output_type": "display_data"
    }
   ],
   "source": [
    "\n",
    "def loss1D(u, alpha):\n",
    "    return 4*np.pi*np.exp(alpha*np.sqrt(1/(4*np.pi))) - alpha*u\n",
    "\n",
    "# not realizable moment\n",
    "u = -4\n",
    "alpha = np.arange(-10.0, 10.0, 0.05)\n",
    "plt.figure()\n",
    "plt.plot(alpha,loss1D(u,alpha))\n",
    "plt.ylabel('alpha')\n",
    "plt.xlabel('loss')\n",
    "plt.title('u=-4')\n",
    "plt.show()\n",
    "\n",
    "#realizable moment\n",
    "u = 10\n",
    "alpha = np.arange(-10.0, 10.0, 0.05)\n",
    "plt.figure()\n",
    "plt.plot(alpha,loss1D(u,alpha))\n",
    "plt.ylabel('alpha')\n",
    "plt.xlabel('loss')\n",
    "plt.title('u=10')\n",
    "plt.show()\n",
    "\n",
    "# moment close to the boundary of the realizable set\n",
    "u = 0.1\n",
    "alpha = np.arange(-10.0, 10.0, 0.05)\n",
    "plt.figure()\n",
    "plt.plot(alpha,loss1D(u,alpha))\n",
    "plt.ylabel('alpha')\n",
    "plt.xlabel('loss')\n",
    "plt.title('u=0.1')\n",
    "plt.show()"
   ]
  },
  {
   "cell_type": "code",
   "execution_count": 57,
   "metadata": {},
   "outputs": [],
   "source": [
    "# build the network\n",
    "import numpy as np\n",
    "import tensorflow as tf\n",
    "from tensorflow import keras\n",
    "from tensorflow.keras import layers\n",
    "import math\n",
    "\n",
    "# Custom Loss\n",
    "def custom_loss1d(u_input, alpha_pred): # (label,prediciton)\n",
    "    return 4*math.pi*tf.math.exp(alpha_pred*np.sqrt(1/(4*np.pi))) - alpha_pred*u_input\n",
    "  \n",
    "\n",
    "\n",
    "# Build the network:\n",
    "def create_model():\n",
    "    \n",
    "    # Define the input\n",
    "    input_ = keras.Input(shape=(1,))\n",
    "    \n",
    "    # Hidden layers\n",
    "    hidden1 = layers.Dense(4, activation=\"tanh\")(input_)  \n",
    "    hidden2 = layers.Dense(8, activation=\"tanh\")(hidden1)  \n",
    "    hidden3 = layers.Dense(32, activation=\"tanh\")(hidden2)  \n",
    "    hidden4 = layers.Dense(8, activation=\"tanh\")(hidden3)  \n",
    "    hidden5 = layers.Dense(4, activation=\"tanh\")(hidden4)  \n",
    "    \n",
    "    #Define the ouput\n",
    "    output_ = layers.Dense(1)(hidden5)\n",
    "\n",
    "    # Create the model\n",
    "    model = keras.Model(inputs=[input_], outputs=[output_] )\n",
    "    \n",
    "    \n",
    "    model.summary()\n",
    "    \n",
    "    # tf.keras.losses.MeanSquaredError()\n",
    "    model.compile(loss= custom_loss1d, optimizer=\"adam\",\n",
    "              metrics=[\"accuracy\"])\n",
    "\n",
    "    return model\n"
   ]
  },
  {
   "cell_type": "code",
   "execution_count": 58,
   "metadata": {},
   "outputs": [],
   "source": [
    "\n",
    "# build training data and shuffe!\n",
    "uTrain = np.arange(0.1, 100, 0.1)\n",
    "random.shuffle(uTrain)\n"
   ]
  },
  {
   "cell_type": "code",
   "execution_count": 59,
   "metadata": {},
   "outputs": [
    {
     "name": "stdout",
     "output_type": "stream",
     "text": [
      "Model: \"functional_19\"\n",
      "_________________________________________________________________\n",
      "Layer (type)                 Output Shape              Param #   \n",
      "=================================================================\n",
      "input_12 (InputLayer)        [(None, 1)]               0         \n",
      "_________________________________________________________________\n",
      "dense_74 (Dense)             (None, 4)                 8         \n",
      "_________________________________________________________________\n",
      "dense_75 (Dense)             (None, 8)                 40        \n",
      "_________________________________________________________________\n",
      "dense_76 (Dense)             (None, 32)                288       \n",
      "_________________________________________________________________\n",
      "dense_77 (Dense)             (None, 8)                 264       \n",
      "_________________________________________________________________\n",
      "dense_78 (Dense)             (None, 4)                 36        \n",
      "_________________________________________________________________\n",
      "dense_79 (Dense)             (None, 1)                 5         \n",
      "=================================================================\n",
      "Total params: 641\n",
      "Trainable params: 641\n",
      "Non-trainable params: 0\n",
      "_________________________________________________________________\n"
     ]
    }
   ],
   "source": [
    "model = create_model()\n"
   ]
  },
  {
   "cell_type": "code",
   "execution_count": 62,
   "metadata": {},
   "outputs": [
    {
     "name": "stdout",
     "output_type": "stream",
     "text": [
      "dict_keys(['loss', 'accuracy', 'val_loss', 'val_accuracy'])\n"
     ]
    },
    {
     "data": {
      "image/png": "[encoded data removed]",
      "text/plain": [
       "<Figure size 432x288 with 1 Axes>"
      ]
     },
     "metadata": {
      "needs_background": "light"
     },
     "output_type": "display_data"
    },
    {
     "data": {
      "image/png": "[encoded data removed]",
      "text/plain": [
       "<Figure size 432x288 with 1 Axes>"
      ]
     },
     "metadata": {
      "needs_background": "light"
     },
     "output_type": "display_data"
    }
   ],
   "source": [
    "\n",
    "# use uTrain as labels, since the custom loss is prepared that way\n",
    "history = model.fit(uTrain, uTrain,validation_split=0.33, epochs=1500, batch_size=1000, verbose=1)\n",
    "\n",
    "print(history.history.keys())\n",
    "plt.plot(history.history['accuracy'])\n",
    "plt.plot(history.history['val_accuracy'])\n",
    "plt.title('model accuracy')\n",
    "plt.ylabel('accuracy')\n",
    "plt.xlabel('epoch')\n",
    "plt.legend(['train', 'test'], loc='upper left')\n",
    "plt.show()\n",
    "# summarize history for loss\n",
    "plt.plot(history.history['loss'])\n",
    "plt.plot(history.history['val_loss'])\n",
    "plt.title('model loss')\n",
    "plt.ylabel('loss')\n",
    "plt.xlabel('epoch')\n",
    "plt.legend(['train', 'test'], loc='upper left')\n",
    "plt.show()"
   ]
  },
  {
   "cell_type": "markdown",
   "metadata": {},
   "source": [
    "#### The more complicated case ###"
   ]
  },
  {
   "cell_type": "code",
   "execution_count": null,
   "metadata": {
    "colab": {},
    "colab_type": "code",
    "id": "hS9H_h8BgK_g"
   },
   "outputs": [],
   "source": [
    "## Define the custom loss function\n",
    "def minimal_Entropy_Loss(u,alpha):\n",
    "\n",
    "  # Compute the spherical harmonics ( up to degree 2, hardcoded for testing puproses)\n",
    "  def spherical_harmonics(my, phi):\n",
    "    m = np.zeros(9)\n",
    "    m[0] = np.sqrt(1/(4*np.pi))\n",
    "    \n",
    "    m[1] = -1* np.sqrt(3/(4*np.pi))*np.sqrt(1-my*my)*np.sin(phi)\n",
    "    m[2] = np.sqrt(3/(4*np.pi))*my\n",
    "    m[3] = -1*np.sqrt(3/(4*np.pi))*np.sqrt(1-my*my)*np.cos(phi)\n",
    "\n",
    "   # m[4] = np.sqrt(15/(16*np.pi)) * (1-my*my) * np.sin(2 * phi)\n",
    "   # m[5] = -1 * np.sqrt(15/(4*np.pi)) * my * np.sqrt(1-my*my) * sin(phi)\n",
    "   # m[6] = np.sqrt(5/(16*np.pi))*(3*my*my-1)\n",
    "   # m[7] = -1 * sqrt(15/(4 * np.pi)) * np.sqrt(1-my * my) * np.cos(phi)\n",
    "   # m[8] = np.sqrt(15/(16* np.pi))*(1-my * my) * np.cos(2*phi)\n",
    "\n",
    "  return m\n",
    "\n",
    "  # Set integration points\n",
    "  def setPointsWeights(order):\n",
    "    # legendre points and weights to interpolate my\n",
    "    (my,w) = np.polynomial.legendre.leggauss(order)\n",
    "\n",
    "    # points and weights to interpolate phi\n",
    "    phi = np.zeros(order)\n",
    "   \n",
    "    for i in range(0,order):\n",
    "        phi[i] = (i+0.5)*np.pi/ order\n",
    "\n",
    "    #tensorized points and weights\n",
    "    nq =  2 * pow(order, 2 )\n",
    "\n",
    "    pointsOut = np.zeros([2,nq])\n",
    "    weightsOut = np.zeros(nq)\n",
    "    for j in range(0,order):\n",
    "      for i in range(0,order):\n",
    "        pointsOut[j * ( 2 * order ) + i,0] = my[j]\n",
    "        pointsOut[j * ( 2 * order ) + i,1] = phi[i]\n",
    "        weightsOut[j * ( 2 * order ) + i] = np.pi / order * w[j]\n",
    "\n",
    "    return (pointsOut,weightsOut)\n",
    "   \n",
    "  def entropy_MB(alpha,m):\n",
    "     return exp(alpa*m)\n",
    "  # define the entropy part\n",
    "  def entropy_part(alpha):\n",
    "\n",
    "    result  = 0.0\n",
    "\n",
    "    (points ,weights) = setPointsWeights(12) # order 12\n",
    "\n",
    "    for i in range(0,weights.size):\n",
    "      m = spherical_harmonics(points[i,0], points[i,1])\n",
    "\n",
    "      result+=entropyDual(alpha, m)*weights[i]\n",
    "\n",
    "\n",
    "    return result\n",
    "\n",
    "  # Stack together the loss function\n",
    "  loss = entropy_part(alpha) - alpha*u;\n",
    "  return loss\n"
   ]
  }
 ],
 "metadata": {
  "accelerator": "GPU",
  "colab": {
   "collapsed_sections": [],
   "name": "EntropyTrainer.ipynb",
   "provenance": []
  },
  "kernelspec": {
   "display_name": "Python 3",
   "language": "python",
   "name": "python3"
  },
  "language_info": {
   "codemirror_mode": {
    "name": "ipython",
    "version": 3
   },
   "file_extension": ".py",
   "mimetype": "text/x-python",
   "name": "python",
   "nbconvert_exporter": "python",
   "pygments_lexer": "ipython3",
   "version": "3.8.3"
  }
 },
 "nbformat": 4,
 "nbformat_minor": 1
}
