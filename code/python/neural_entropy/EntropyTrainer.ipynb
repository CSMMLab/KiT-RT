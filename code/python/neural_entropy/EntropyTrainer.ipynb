{
 "cells": [
  {
   "cell_type": "markdown",
   "metadata": {
    "colab_type": "text",
    "id": "Ufb5Oc9LHkOd"
   },
   "source": [
    "# Test NN for Entropy Closure #\n",
    "\n",
    "Test Data is generated from RTSN code"
   ]
  },
  {
   "cell_type": "markdown",
   "metadata": {
    "colab_type": "text",
    "id": "Zs9ZGENoItzq"
   },
   "source": [
    "Load all needed modules"
   ]
  },
  {
   "cell_type": "code",
   "execution_count": 1,
   "metadata": {},
   "outputs": [],
   "source": [
    "# Imports\n",
    "import pandas as pd\n",
    "import random                        # for generating random numbers\n",
    "import numpy as np\n",
    "import tensorflow as tf\n",
    "from tensorflow import keras\n",
    "import matplotlib.pyplot as plt      # MATLAB like plotting routines\n",
    "from sklearn.preprocessing import normalize"
   ]
  },
  {
   "cell_type": "markdown",
   "metadata": {
    "colab_type": "text",
    "id": "Z9bPtTIHIxnR"
   },
   "source": [
    "Load and preprocess Training Data"
   ]
  },
  {
   "cell_type": "code",
   "execution_count": 2,
   "metadata": {
    "colab": {
     "base_uri": "https://localhost:8080/",
     "height": 78,
     "resources": {
      "http://localhost:8080/nbextensions/google.colab/files.js": {
       "data": "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",
       "headers": [
        [
         "content-type",
         "application/javascript"
        ]
       ],
       "ok": true,
       "status": 200,
       "status_text": "OK"
      }
     }
    },
    "colab_type": "code",
    "id": "tbAk6wxEJt8J",
    "outputId": "43ee9205-39a1-4f74-dd6a-1a2ce5c89030"
   },
   "outputs": [],
   "source": [
    "def preprocess_data(filename):\n",
    "    # reading csv file\n",
    "    dataFrameInput = pd.read_csv(filename) #outputs a dataframe object\n",
    "\n",
    "    idx = 0\n",
    "    xDataList = list()\n",
    "    yDataList = list()\n",
    "    data = dataFrameInput.values  # numpy array\n",
    "\n",
    "    ## Somehow t = 0 has an odd number of elements, just cut it out\n",
    "\n",
    "    for row in data:\n",
    "        if (row[2] > 0):\n",
    "            if (idx % 2 == 0):\n",
    "                xDataList.append(row)\n",
    "            else:\n",
    "                yDataList.append(row)\n",
    "\n",
    "            idx = idx + 1\n",
    "\n",
    "    # merge the lists\n",
    "    DataList = list()\n",
    "    for rowX, rowY in zip(xDataList, yDataList):\n",
    "        DataList.append([rowX, rowY])\n",
    "\n",
    "    # Shuffle data\n",
    "\n",
    "    random.shuffle(DataList)\n",
    "\n",
    "    DataArray = np.asarray(DataList)\n",
    "    #print(DataArray.shape)\n",
    "\n",
    "    # Strip off header information, i.e. the first 3 cols\n",
    "    DataArraySlim = DataArray[:, :, 3:]\n",
    "    #print(DataArraySlim.shape)\n",
    "\n",
    "    '''\n",
    "    # split in train and test data (ratio 4:1)\n",
    "    DataTrain = DataArraySlim[:4 * int(DataArraySlim.shape[0] / 5)]\n",
    "    DataTest = DataArraySlim[4 * int(DataArraySlim.shape[0] / 5):]\n",
    "\n",
    "    # Split in x (input) and y (output) data\n",
    "    xDataTrain = DataTrain[:, 0, :]\n",
    "    yDataTrain = DataTrain[:, 1, :]\n",
    "    xDataTest = DataTest[:, 0, :]\n",
    "    yDataTest = DataTest[:, 1, :]\n",
    "\n",
    "    #Normalize Input\n",
    "    #xDataTrain = normalize(xDataTrain, axis=1, norm='l1')\n",
    "    #xDataTest = normalize(xDataTest, axis=1, norm='l1')\n",
    "    \n",
    "    '''\n",
    "    \n",
    "    return DataArraySlim\n",
    "\n",
    "def split_data(Data, ratio): # 0<ratio<1 ratio of test data\n",
    "    \n",
    "    # split in train and test data (ratio 4:1)\n",
    "    DataTrain = Data[:int((1-ratio)* int(Data.shape[0] ))]\n",
    "    DataTest = Data[int((1-ratio)* int(Data.shape[0] )):]\n",
    "\n",
    "    # Split in x (input) and y (output) data\n",
    "    xDataTrain = DataTrain[:, 0, :]\n",
    "    yDataTrain = DataTrain[:, 1, :]\n",
    "    xDataTest = DataTest[:, 0, :]\n",
    "    yDataTest = DataTest[:, 1, :]\n",
    "    \n",
    "    return (xDataTrain,yDataTrain,xDataTest,yDataTest)\n"
   ]
  },
  {
   "cell_type": "markdown",
   "metadata": {
    "colab_type": "text",
    "id": "N2NZasiqKFm_"
   },
   "source": [
    "Review Training Data"
   ]
  },
  {
   "cell_type": "code",
   "execution_count": 3,
   "metadata": {},
   "outputs": [],
   "source": [
    "# Load the Data\n",
    "(xDataTrain,yDataTrain,xDataTest,yDataTest) = split_data(preprocess_data(\"trainNN.csv\"),0.2) \n"
   ]
  },
  {
   "cell_type": "markdown",
   "metadata": {
    "colab_type": "text",
    "id": "zmHBl9XYLa4q"
   },
   "source": [
    "## Start the Neural Network ##\n",
    "First, load the needed python modules\n"
   ]
  },
  {
   "cell_type": "markdown",
   "metadata": {
    "colab_type": "text",
    "id": "Idh6eJsZUhZj"
   },
   "source": [
    "##Build the Network - Take one: Simple FCN (Fully connected Network) ###\n",
    "\n",
    "* Input: Solution of the Kinetic solver at time-step n and a cell, called u \n",
    "* Output: Legendre multiplier of the entropy closure, called alpha\n",
    "\n",
    "u and alpha have the same length, which is given by the size of the moment basis.\n",
    "\n"
   ]
  },
  {
   "cell_type": "code",
   "execution_count": 4,
   "metadata": {
    "colab": {},
    "colab_type": "code",
    "id": "_piriejwUY6I"
   },
   "outputs": [],
   "source": [
    "import tensorflow as tf\n",
    "from tensorflow import keras\n",
    "from tensorflow.keras import layers\n",
    "from tensorflow.keras.utils import plot_model\n",
    "# Build the network:\n",
    "def create_model():\n",
    "  model = tf.keras.models.Sequential([\n",
    "    keras.layers.Dense(256, activation='relu', input_shape=(4,)),\n",
    "    keras.layers.Dropout(0.2),\n",
    "    keras.layers.Dense(512, activation='relu', input_shape=(64,)),\n",
    "    keras.layers.Dropout(0.2),\n",
    "    keras.layers.Dense(256, activation='relu', input_shape=(256,)),\n",
    "    keras.layers.Dropout(0.2),\n",
    "    keras.layers.Dense(128, activation='relu', input_shape=(128,)),\n",
    "    keras.layers.Dropout(0.2),\n",
    "    keras.layers.Dense(4,)\n",
    "  ])\n",
    "\n",
    "  model.summary()\n",
    "  #plot_model(model, to_file='model_plot.png', show_shapes=True, show_layer_names=True)\n",
    "  '''\n",
    "  bfgs_opt = tfp.optimizer.bfgs_minimize(\n",
    "    value_and_gradients_function, initial_position, tolerance=1e-08, x_tolerance=0,\n",
    "    f_relative_tolerance=0, initial_inverse_hessian_estimate=None,\n",
    "    max_iterations=50, parallel_iterations=1, stopping_condition=None,\n",
    "    validate_args=True, max_line_search_iterations=50, name=None\n",
    "    )\n",
    "  '''\n",
    "  model.compile(loss=tf.keras.losses.MeanSquaredError(), optimizer='adam', metrics=['accuracy'])\n",
    "\n",
    "  return model\n"
   ]
  },
  {
   "cell_type": "markdown",
   "metadata": {
    "colab_type": "text",
    "id": "j7bZnd0QWdou"
   },
   "source": [
    "### Compile the model ###"
   ]
  },
  {
   "cell_type": "code",
   "execution_count": 5,
   "metadata": {
    "colab": {
     "base_uri": "https://localhost:8080/",
     "height": 495
    },
    "colab_type": "code",
    "id": "_UJ-kksOWdMN",
    "outputId": "cb9e61a8-9dc4-4d2b-871b-28722435db0b"
   },
   "outputs": [
    {
     "name": "stdout",
     "output_type": "stream",
     "text": [
      "Model: \"sequential\"\n",
      "_________________________________________________________________\n",
      "Layer (type)                 Output Shape              Param #   \n",
      "=================================================================\n",
      "dense (Dense)                (None, 256)               1280      \n",
      "_________________________________________________________________\n",
      "dropout (Dropout)            (None, 256)               0         \n",
      "_________________________________________________________________\n",
      "dense_1 (Dense)              (None, 512)               131584    \n",
      "_________________________________________________________________\n",
      "dropout_1 (Dropout)          (None, 512)               0         \n",
      "_________________________________________________________________\n",
      "dense_2 (Dense)              (None, 256)               131328    \n",
      "_________________________________________________________________\n",
      "dropout_2 (Dropout)          (None, 256)               0         \n",
      "_________________________________________________________________\n",
      "dense_3 (Dense)              (None, 128)               32896     \n",
      "_________________________________________________________________\n",
      "dropout_3 (Dropout)          (None, 128)               0         \n",
      "_________________________________________________________________\n",
      "dense_4 (Dense)              (None, 4)                 516       \n",
      "=================================================================\n",
      "Total params: 297,604\n",
      "Trainable params: 297,604\n",
      "Non-trainable params: 0\n",
      "_________________________________________________________________\n"
     ]
    }
   ],
   "source": [
    "model = create_model()\n",
    "\n",
    "# Let's use the Adam optimizer for learning\n",
    "#model.compile(loss=tf.keras.losses.MeanSquaredError(), optimizer='adam', metrics=['accuracy'])"
   ]
  },
  {
   "cell_type": "markdown",
   "metadata": {
    "colab_type": "text",
    "id": "HSIghzZCW41n"
   },
   "source": [
    "## Train the model ##\n"
   ]
  },
  {
   "cell_type": "code",
   "execution_count": 6,
   "metadata": {
    "colab": {
     "base_uri": "https://localhost:8080/",
     "height": 862
    },
    "colab_type": "code",
    "id": "tA1P9EwUW9bh",
    "outputId": "76cd7455-2388-4cb6-8d3b-6d8a6cd8f6b4"
   },
   "outputs": [
    {
     "name": "stdout",
     "output_type": "stream",
     "text": [
      "Model: \"sequential_1\"\n",
      "_________________________________________________________________\n",
      "Layer (type)                 Output Shape              Param #   \n",
      "=================================================================\n",
      "dense_5 (Dense)              (None, 256)               1280      \n",
      "_________________________________________________________________\n",
      "dropout_4 (Dropout)          (None, 256)               0         \n",
      "_________________________________________________________________\n",
      "dense_6 (Dense)              (None, 512)               131584    \n",
      "_________________________________________________________________\n",
      "dropout_5 (Dropout)          (None, 512)               0         \n",
      "_________________________________________________________________\n",
      "dense_7 (Dense)              (None, 256)               131328    \n",
      "_________________________________________________________________\n",
      "dropout_6 (Dropout)          (None, 256)               0         \n",
      "_________________________________________________________________\n",
      "dense_8 (Dense)              (None, 128)               32896     \n",
      "_________________________________________________________________\n",
      "dropout_7 (Dropout)          (None, 128)               0         \n",
      "_________________________________________________________________\n",
      "dense_9 (Dense)              (None, 4)                 516       \n",
      "=================================================================\n",
      "Total params: 297,604\n",
      "Trainable params: 297,604\n",
      "Non-trainable params: 0\n",
      "_________________________________________________________________\n"
     ]
    },
    {
     "data": {
      "text/plain": [
       "\"\\nhistory = model.fit(xDataTrain, yDataTrain,validation_split=0.33, epochs=1, batch_size=1000, verbose=1)\\n\\nprint(history.history.keys())\\nplt.plot(history.history['accuracy'])\\nplt.plot(history.history['val_accuracy'])\\nplt.title('model accuracy')\\nplt.ylabel('accuracy')\\nplt.xlabel('epoch')\\nplt.legend(['train', 'test'], loc='upper left')\\nplt.show()\\n# summarize history for loss\\nplt.plot(history.history['loss'])\\nplt.plot(history.history['val_loss'])\\nplt.title('model loss')\\nplt.ylabel('loss')\\nplt.xlabel('epoch')\\nplt.legend(['train', 'test'], loc='upper left')\\nplt.show()\\n\""
      ]
     },
     "execution_count": 6,
     "metadata": {},
     "output_type": "execute_result"
    }
   ],
   "source": [
    "#from tensorflow.keras.callbacks import ReduceLROnPlateau\n",
    "\n",
    "#rlrop = ReduceLROnPlateau(monitor='val_loss', factor=0.1, patience=100)\n",
    "\n",
    "\n",
    "# Create the model\n",
    "model = create_model()\n",
    "\n",
    "'''\n",
    "history = model.fit(xDataTrain, yDataTrain,validation_split=0.33, epochs=1, batch_size=1000, verbose=1)\n",
    "\n",
    "print(history.history.keys())\n",
    "plt.plot(history.history['accuracy'])\n",
    "plt.plot(history.history['val_accuracy'])\n",
    "plt.title('model accuracy')\n",
    "plt.ylabel('accuracy')\n",
    "plt.xlabel('epoch')\n",
    "plt.legend(['train', 'test'], loc='upper left')\n",
    "plt.show()\n",
    "# summarize history for loss\n",
    "plt.plot(history.history['loss'])\n",
    "plt.plot(history.history['val_loss'])\n",
    "plt.title('model loss')\n",
    "plt.ylabel('loss')\n",
    "plt.xlabel('epoch')\n",
    "plt.legend(['train', 'test'], loc='upper left')\n",
    "plt.show()\n",
    "'''"
   ]
  },
  {
   "cell_type": "markdown",
   "metadata": {
    "colab_type": "text",
    "id": "Uw9gWsZm7gXr"
   },
   "source": [
    "## Evaluate the Model accuracy\n"
   ]
  },
  {
   "cell_type": "code",
   "execution_count": 7,
   "metadata": {
    "colab": {},
    "colab_type": "code",
    "id": "FkW8CoZl7rNn"
   },
   "outputs": [
    {
     "name": "stdout",
     "output_type": "stream",
     "text": [
      "5857/5857 [==============================] - 5s 812us/step - loss: 117.9833 - accuracy: 0.7676\n",
      "Test score: 117.9832992553711\n",
      "Test accuracy: 0.767593502998352\n"
     ]
    }
   ],
   "source": [
    "score = model.evaluate(xDataTest, yDataTest)\n",
    "print('Test score:', score[0])\n",
    "print('Test accuracy:', score[1])"
   ]
  },
  {
   "cell_type": "markdown",
   "metadata": {
    "colab_type": "text",
    "id": "G3z1HCkGQJP_"
   },
   "source": [
    "##Make a prediction"
   ]
  },
  {
   "cell_type": "code",
   "execution_count": 8,
   "metadata": {
    "colab": {},
    "colab_type": "code",
    "id": "Q9EU3H2hQNgX"
   },
   "outputs": [
    {
     "name": "stdout",
     "output_type": "stream",
     "text": [
      "(1, 4)\n",
      "[[-2.2854481e-04 -6.9507652e-05 -5.4984037e-05  5.2336970e-04]]\n"
     ]
    }
   ],
   "source": [
    "print(np.asarray([xDataTest[0]]).shape)\n",
    "pred = model.predict(np.asarray([xDataTest[0]]))\n",
    "print(pred)"
   ]
  },
  {
   "cell_type": "markdown",
   "metadata": {
    "colab_type": "text",
    "id": "33xsSsD5YeA0"
   },
   "source": [
    "## Save trained model"
   ]
  },
  {
   "cell_type": "code",
   "execution_count": 9,
   "metadata": {
    "colab": {},
    "colab_type": "code",
    "id": "iCgbAY22YdFo"
   },
   "outputs": [
    {
     "name": "stdout",
     "output_type": "stream",
     "text": [
      "2.2.0\n"
     ]
    }
   ],
   "source": [
    "print(tf.version.VERSION)\n",
    "\n",
    "#!mkdir -p saved_model\n",
    "#model.save('saved_model/my_model')\n"
   ]
  },
  {
   "cell_type": "code",
   "execution_count": 10,
   "metadata": {
    "colab": {},
    "colab_type": "code",
    "id": "4mJTKJVzwxE5"
   },
   "outputs": [],
   "source": [
    "# Prepare model for download\n",
    "\n",
    "#!zip -r model.zip saved_model"
   ]
  },
  {
   "cell_type": "code",
   "execution_count": 11,
   "metadata": {
    "colab": {},
    "colab_type": "code",
    "id": "zxdU5YCdxGMo"
   },
   "outputs": [],
   "source": [
    "# download model\n",
    "#from google.colab import files\n",
    "#files.download(\"model.zip\")"
   ]
  },
  {
   "cell_type": "markdown",
   "metadata": {
    "colab_type": "text",
    "id": "-EcApWoWf8xk"
   },
   "source": [
    "## Take two: A more sophisticated Loss Function ##\n",
    "\n",
    "The Loss is defined as the Objective function of the minimal entropy problem:\n",
    "\n",
    "$L(u,\\alpha, \\theta) = <\\eta_*(\\alpha(\\theta) \\cdot m(v))>_v - \\alpha(\\theta) \\cdot u$\n",
    "\n",
    "\n",
    "\n"
   ]
  },
  {
   "cell_type": "markdown",
   "metadata": {},
   "source": [
    "#### Easiest case \n",
    "$\\alpha, u\\in\\mathbb{R}$\n",
    "\n",
    "Entropy $\\eta(\\alpha\\cdot m) = exp(\\alpha\\cdot m)$ \n",
    "\n",
    "Spherical harmonics basis for $M_0$: $ m_0 = \\sqrt{\\left(\\frac{1}{4\\pi}\\right)}$"
   ]
  },
  {
   "cell_type": "code",
   "execution_count": 12,
   "metadata": {},
   "outputs": [
    {
     "name": "stdout",
     "output_type": "stream",
     "text": [
      "tf.Tensor(37.846815845621244, shape=(), dtype=float64)\n"
     ]
    },
    {
     "data": {
      "image/png": "[encoded data removed]",
      "text/plain": [
       "<Figure size 432x288 with 1 Axes>"
      ]
     },
     "metadata": {
      "needs_background": "light"
     },
     "output_type": "display_data"
    },
    {
     "data": {
      "image/png": "[encoded data removed]",
      "text/plain": [
       "<Figure size 432x288 with 1 Axes>"
      ]
     },
     "metadata": {
      "needs_background": "light"
     },
     "output_type": "display_data"
    },
    {
     "data": {
      "image/png": "[encoded data removed]",
      "text/plain": [
       "<Figure size 432x288 with 1 Axes>"
      ]
     },
     "metadata": {
      "needs_background": "light"
     },
     "output_type": "display_data"
    }
   ],
   "source": [
    "import math\n",
    "\n",
    "def loss1D(u, alpha):\n",
    "    return 4*np.pi*np.exp(alpha*np.sqrt(1/(4*np.pi))) - alpha*u\n",
    "\n",
    "# Custom Loss\n",
    "def custom_loss1d(u_input, alpha_pred): # (label,prediciton)\n",
    "     return (0.5*alpha_pred*alpha_pred -u*alpha_pred)\n",
    "    #return 4*math.pi*tf.math.exp(alpha_pred*np.sqrt(1/(4*np.pi))) - alpha_pred*u_input\n",
    "\n",
    "def custom_loss1dMB(u_input, alpha_pred): # (label,prediciton)\n",
    "    return 4*math.pi*tf.math.exp(alpha_pred*np.sqrt(1/(4*np.pi))) - alpha_pred*u_input\n",
    "  \n",
    "# Custom Loss\n",
    "def custom_loss1dMBPrime(u_input, alpha_pred): # (label,prediciton)\n",
    "\n",
    "    return 0.5*tf.square(4*math.pi*np.sqrt(1/(4*np.pi))*tf.math.exp(alpha_pred*np.sqrt(1/(4*np.pi))) - u_input)\n",
    "#tf.norm(4*math.pi*np.sqrt(1/(4*np.pi))*tf.math.exp(alpha_pred*np.sqrt(1/(4*np.pi))) - u_input, ord='euclidean')\n",
    "\n",
    "\n",
    "# not realizable moment\n",
    "u = -4\n",
    "print(custom_loss1dMBPrime(u,1))\n",
    "\n",
    "alpha = np.arange(-100.0, -3, 0.05)\n",
    "plt.figure()\n",
    "plt.plot(alpha,custom_loss1dMBPrime(u,alpha))\n",
    "plt.ylabel('alpha')\n",
    "plt.xlabel('loss')\n",
    "plt.title('u=-4')\n",
    "plt.show()\n",
    "\n",
    "#realizable moment\n",
    "u = 10\n",
    "alpha = np.arange(-100.0, 9.0, 0.05)\n",
    "plt.figure()\n",
    "plt.plot(alpha,custom_loss1dMBPrime(u,alpha))\n",
    "plt.ylabel('alpha')\n",
    "plt.xlabel('loss')\n",
    "plt.title('u=10')\n",
    "plt.show()\n",
    "\n",
    "# moment close to the boundary of the realizable set\n",
    "u = 0.1\n",
    "alpha = np.arange(-100.0, 1.0, 0.05)\n",
    "plt.figure()\n",
    "plt.plot(alpha,custom_loss1dMBPrime(u,alpha))\n",
    "plt.ylabel('alpha')\n",
    "plt.xlabel('loss')\n",
    "plt.title('u=0.1')\n",
    "plt.show()"
   ]
  },
  {
   "cell_type": "code",
   "execution_count": 66,
   "metadata": {},
   "outputs": [],
   "source": [
    "# build the network\n",
    "import numpy as np\n",
    "import tensorflow as tf\n",
    "from tensorflow import keras\n",
    "from tensorflow.keras import layers\n",
    "import math\n",
    "from tensorflow.keras.callbacks import EarlyStopping,ModelCheckpoint\n",
    "\n",
    "def custom_loss1dMB(u_input, alpha_pred): # (label,prediciton)\n",
    "    return 4*math.pi*tf.math.exp(alpha_pred*np.sqrt(1/(4*np.pi))) - alpha_pred*u_input\n",
    "  \n",
    "# Custom Loss\n",
    "def custom_loss1dMBPrime(u_input, alpha_pred): # (label,prediciton)\n",
    "    return 0.5*tf.square(4*math.pi*np.sqrt(1/(4*np.pi))*tf.math.exp(alpha_pred*np.sqrt(1/(4*np.pi))) - u_input)\n",
    "\n",
    "# Custom Loss\n",
    "def custom_loss1dQuad(u_input, alpha_pred): # (label,prediciton)\n",
    "    return (0.5*alpha_pred*alpha_pred -u*alpha_pred)\n",
    "    #return 4*math.pi*tf.math.exp(alpha_pred*np.sqrt(1/(4*np.pi))) - alpha_pred*u_input\n",
    "  \n",
    "\n",
    "\n",
    "# Build the network:\n",
    "def create_model():\n",
    "    \n",
    "    # Define the input\n",
    "    input_ = keras.Input(shape=(1,))\n",
    "    \n",
    "    # Hidden layers\n",
    "    hidden1 = layers.Dense(4, activation=\"tanh\")(input_)  \n",
    "    hidden2 = layers.Dense(8, activation=\"tanh\")(hidden1)  \n",
    "    hidden3 = layers.Dense(32, activation=\"tanh\")(hidden2)  \n",
    "    hidden4 = layers.Dense(8, activation=\"tanh\")(hidden3)  \n",
    "    hidden5 = layers.Dense(4, activation=\"tanh\")(hidden4)  \n",
    "    \n",
    "    #Define the ouput\n",
    "    output_ = layers.Dense(1)(hidden5)\n",
    "    \n",
    "    # Create the model\n",
    "    model = keras.Model(inputs=[input_], outputs=[output_] )\n",
    "    \n",
    "    \n",
    "    model.summary()\n",
    "    \n",
    "    # tf.keras.losses.MeanSquaredError()\n",
    "    #custom_loss1d\n",
    "    model.compile(loss=custom_loss1dMBPrime , optimizer='adam',\n",
    "              metrics=[custom_loss1dMB, custom_loss1dMBPrime])\n",
    "\n",
    "    return model\n"
   ]
  },
  {
   "cell_type": "code",
   "execution_count": 67,
   "metadata": {},
   "outputs": [
    {
     "name": "stdout",
     "output_type": "stream",
     "text": [
      "Model: \"model_5\"\n",
      "_________________________________________________________________\n",
      "Layer (type)                 Output Shape              Param #   \n",
      "=================================================================\n",
      "input_6 (InputLayer)         [(None, 1)]               0         \n",
      "_________________________________________________________________\n",
      "dense_40 (Dense)             (None, 4)                 8         \n",
      "_________________________________________________________________\n",
      "dense_41 (Dense)             (None, 8)                 40        \n",
      "_________________________________________________________________\n",
      "dense_42 (Dense)             (None, 32)                288       \n",
      "_________________________________________________________________\n",
      "dense_43 (Dense)             (None, 8)                 264       \n",
      "_________________________________________________________________\n",
      "dense_44 (Dense)             (None, 4)                 36        \n",
      "_________________________________________________________________\n",
      "dense_45 (Dense)             (None, 1)                 5         \n",
      "=================================================================\n",
      "Total params: 641\n",
      "Trainable params: 641\n",
      "Non-trainable params: 0\n",
      "_________________________________________________________________\n"
     ]
    }
   ],
   "source": [
    "model = create_model()\n"
   ]
  },
  {
   "cell_type": "code",
   "execution_count": 73,
   "metadata": {},
   "outputs": [
    {
     "name": "stdout",
     "output_type": "stream",
     "text": [
      "[0.1      0.100001 0.100002 ... 9.999997 9.999998 9.999999]\n",
      "[6.842216 4.260433 9.455449 ... 3.610957 2.044917 0.218258]\n"
     ]
    }
   ],
   "source": [
    "# build training data and shuffe!\n",
    "uTrain = np.arange(0.1, 10,0.000001)\n",
    "print(uTrain)\n",
    "random.shuffle(uTrain)\n",
    "print(uTrain)"
   ]
  },
  {
   "cell_type": "markdown",
   "metadata": {},
   "source": [
    "### Study of Optimizers ###\n",
    "\n",
    "Use the dataset np.arange(0.1, 2,0.000001)\n",
    "* RMSPROP: minimal Loss  4.8240e-05  in 79 epochs\n",
    "* ADAM:    minimal Loss  1.2580e-06 in 68 epochs\n",
    "* SGD:  minimal Loss 6.9069e-05 in 167 epochs\n"
   ]
  },
  {
   "cell_type": "code",
   "execution_count": 75,
   "metadata": {},
   "outputs": [
    {
     "name": "stdout",
     "output_type": "stream",
     "text": [
      "[6.842216 4.260433 9.455449 ... 3.610957 2.044917 0.218258]\n",
      "Epoch 1/1500\n",
      "6930/6930 [==============================] - 9s 1ms/step - loss: 8.0131e-04 - custom_loss1dMB: 8.2821 - custom_loss1dMBPrime: 8.0131e-04 - val_loss: 2.2021e-04 - val_custom_loss1dMB: 8.2768 - val_custom_loss1dMBPrime: 2.2021e-04\n",
      "Epoch 2/1500\n",
      "6930/6930 [==============================] - 9s 1ms/step - loss: 7.0804e-04 - custom_loss1dMB: 8.2820 - custom_loss1dMBPrime: 7.0804e-04 - val_loss: 6.9510e-04 - val_custom_loss1dMB: 8.2771 - val_custom_loss1dMBPrime: 6.9510e-04\n",
      "Epoch 3/1500\n",
      "6930/6930 [==============================] - 9s 1ms/step - loss: 6.2810e-04 - custom_loss1dMB: 8.2819 - custom_loss1dMBPrime: 6.2810e-04 - val_loss: 0.0014 - val_custom_loss1dMB: 8.2774 - val_custom_loss1dMBPrime: 0.0014\n",
      "Epoch 4/1500\n",
      "6930/6930 [==============================] - 9s 1ms/step - loss: 5.9887e-04 - custom_loss1dMB: 8.2819 - custom_loss1dMBPrime: 5.9887e-04 - val_loss: 8.7748e-04 - val_custom_loss1dMB: 8.2771 - val_custom_loss1dMBPrime: 8.7748e-04\n",
      "Epoch 5/1500\n",
      "6930/6930 [==============================] - 9s 1ms/step - loss: 5.6592e-04 - custom_loss1dMB: 8.2818 - custom_loss1dMBPrime: 5.6592e-04 - val_loss: 6.0849e-04 - val_custom_loss1dMB: 8.2769 - val_custom_loss1dMBPrime: 6.0849e-04\n",
      "Epoch 6/1500\n",
      "6930/6930 [==============================] - 9s 1ms/step - loss: 5.1360e-04 - custom_loss1dMB: 8.2818 - custom_loss1dMBPrime: 5.1360e-04 - val_loss: 2.6460e-04 - val_custom_loss1dMB: 8.2767 - val_custom_loss1dMBPrime: 2.6460e-04\n",
      "Epoch 7/1500\n",
      "6930/6930 [==============================] - 9s 1ms/step - loss: 4.8425e-04 - custom_loss1dMB: 8.2817 - custom_loss1dMBPrime: 4.8425e-04 - val_loss: 1.7149e-04 - val_custom_loss1dMB: 8.2766 - val_custom_loss1dMBPrime: 1.7149e-04\n",
      "Epoch 8/1500\n",
      "6930/6930 [==============================] - 9s 1ms/step - loss: 4.4250e-04 - custom_loss1dMB: 8.2816 - custom_loss1dMBPrime: 4.4250e-04 - val_loss: 6.9431e-04 - val_custom_loss1dMB: 8.2768 - val_custom_loss1dMBPrime: 6.9431e-04\n",
      "Epoch 9/1500\n",
      "6930/6930 [==============================] - 9s 1ms/step - loss: 4.2852e-04 - custom_loss1dMB: 8.2816 - custom_loss1dMBPrime: 4.2852e-04 - val_loss: 1.4287e-04 - val_custom_loss1dMB: 8.2765 - val_custom_loss1dMBPrime: 1.4287e-04\n",
      "Epoch 10/1500\n",
      "6930/6930 [==============================] - 9s 1ms/step - loss: 4.0137e-04 - custom_loss1dMB: 8.2816 - custom_loss1dMBPrime: 4.0137e-04 - val_loss: 8.7741e-05 - val_custom_loss1dMB: 8.2764 - val_custom_loss1dMBPrime: 8.7741e-05\n",
      "Epoch 11/1500\n",
      "6930/6930 [==============================] - 9s 1ms/step - loss: 3.6155e-04 - custom_loss1dMB: 8.2815 - custom_loss1dMBPrime: 3.6155e-04 - val_loss: 1.0762e-04 - val_custom_loss1dMB: 8.2764 - val_custom_loss1dMBPrime: 1.0762e-04\n",
      "Epoch 12/1500\n",
      "6930/6930 [==============================] - 9s 1ms/step - loss: 3.8695e-04 - custom_loss1dMB: 8.2815 - custom_loss1dMBPrime: 3.8695e-04 - val_loss: 0.0016 - val_custom_loss1dMB: 8.2772 - val_custom_loss1dMBPrime: 0.0016\n",
      "Epoch 13/1500\n",
      "6930/6930 [==============================] - 9s 1ms/step - loss: 3.4192e-04 - custom_loss1dMB: 8.2814 - custom_loss1dMBPrime: 3.4192e-04 - val_loss: 1.9580e-04 - val_custom_loss1dMB: 8.2764 - val_custom_loss1dMBPrime: 1.9580e-04\n",
      "Epoch 14/1500\n",
      "6930/6930 [==============================] - 9s 1ms/step - loss: 3.4945e-04 - custom_loss1dMB: 8.2814 - custom_loss1dMBPrime: 3.4945e-04 - val_loss: 2.9123e-04 - val_custom_loss1dMB: 8.2764 - val_custom_loss1dMBPrime: 2.9123e-04\n",
      "Epoch 15/1500\n",
      "6930/6930 [==============================] - 9s 1ms/step - loss: 2.8996e-04 - custom_loss1dMB: 8.2813 - custom_loss1dMBPrime: 2.8996e-04 - val_loss: 1.4619e-04 - val_custom_loss1dMB: 8.2763 - val_custom_loss1dMBPrime: 1.4619e-04\n",
      "Epoch 16/1500\n",
      "6930/6930 [==============================] - 9s 1ms/step - loss: 3.1661e-04 - custom_loss1dMB: 8.2813 - custom_loss1dMBPrime: 3.1661e-04 - val_loss: 1.0619e-04 - val_custom_loss1dMB: 8.2763 - val_custom_loss1dMBPrime: 1.0619e-04\n",
      "Epoch 17/1500\n",
      "6930/6930 [==============================] - 9s 1ms/step - loss: 2.7816e-04 - custom_loss1dMB: 8.2813 - custom_loss1dMBPrime: 2.7816e-04 - val_loss: 4.9720e-04 - val_custom_loss1dMB: 8.2764 - val_custom_loss1dMBPrime: 4.9720e-04\n",
      "Epoch 18/1500\n",
      "6930/6930 [==============================] - 9s 1ms/step - loss: 2.3998e-04 - custom_loss1dMB: 8.2812 - custom_loss1dMBPrime: 2.3998e-04 - val_loss: 9.6955e-05 - val_custom_loss1dMB: 8.2762 - val_custom_loss1dMBPrime: 9.6955e-05\n",
      "Epoch 19/1500\n",
      "6930/6930 [==============================] - 9s 1ms/step - loss: 2.7907e-04 - custom_loss1dMB: 8.2812 - custom_loss1dMBPrime: 2.7907e-04 - val_loss: 3.5079e-04 - val_custom_loss1dMB: 8.2763 - val_custom_loss1dMBPrime: 3.5079e-04\n",
      "Epoch 20/1500\n",
      "6930/6930 [==============================] - 9s 1ms/step - loss: 2.1925e-04 - custom_loss1dMB: 8.2811 - custom_loss1dMBPrime: 2.1925e-04 - val_loss: 6.1782e-05 - val_custom_loss1dMB: 8.2761 - val_custom_loss1dMBPrime: 6.1782e-05\n",
      "Epoch 21/1500\n",
      "6930/6930 [==============================] - 9s 1ms/step - loss: 2.4085e-04 - custom_loss1dMB: 8.2812 - custom_loss1dMBPrime: 2.4085e-04 - val_loss: 1.4538e-04 - val_custom_loss1dMB: 8.2762 - val_custom_loss1dMBPrime: 1.4538e-04\n",
      "Epoch 22/1500\n",
      "6930/6930 [==============================] - 9s 1ms/step - loss: 2.4073e-04 - custom_loss1dMB: 8.2811 - custom_loss1dMBPrime: 2.4073e-04 - val_loss: 0.0022 - val_custom_loss1dMB: 8.2773 - val_custom_loss1dMBPrime: 0.0022\n",
      "Epoch 23/1500\n",
      "6930/6930 [==============================] - 9s 1ms/step - loss: 2.1828e-04 - custom_loss1dMB: 8.2811 - custom_loss1dMBPrime: 2.1828e-04 - val_loss: 1.1181e-04 - val_custom_loss1dMB: 8.2761 - val_custom_loss1dMBPrime: 1.1181e-04\n",
      "Epoch 24/1500\n",
      "6930/6930 [==============================] - 9s 1ms/step - loss: 2.2909e-04 - custom_loss1dMB: 8.2811 - custom_loss1dMBPrime: 2.2909e-04 - val_loss: 7.4783e-05 - val_custom_loss1dMB: 8.2761 - val_custom_loss1dMBPrime: 7.4783e-05\n",
      "Epoch 25/1500\n",
      "6930/6930 [==============================] - 9s 1ms/step - loss: 1.8776e-04 - custom_loss1dMB: 8.2810 - custom_loss1dMBPrime: 1.8776e-04 - val_loss: 1.2248e-04 - val_custom_loss1dMB: 8.2761 - val_custom_loss1dMBPrime: 1.2248e-04\n",
      "Epoch 26/1500\n",
      "6930/6930 [==============================] - 9s 1ms/step - loss: 1.8321e-04 - custom_loss1dMB: 8.2810 - custom_loss1dMBPrime: 1.8321e-04 - val_loss: 6.7038e-05 - val_custom_loss1dMB: 8.2760 - val_custom_loss1dMBPrime: 6.7038e-05\n",
      "Epoch 27/1500\n",
      "6930/6930 [==============================] - 9s 1ms/step - loss: 1.6758e-04 - custom_loss1dMB: 8.2810 - custom_loss1dMBPrime: 1.6758e-04 - val_loss: 3.5249e-05 - val_custom_loss1dMB: 8.2760 - val_custom_loss1dMBPrime: 3.5249e-05\n",
      "Epoch 28/1500\n",
      "6930/6930 [==============================] - 9s 1ms/step - loss: 1.8345e-04 - custom_loss1dMB: 8.2810 - custom_loss1dMBPrime: 1.8345e-04 - val_loss: 4.1278e-05 - val_custom_loss1dMB: 8.2760 - val_custom_loss1dMBPrime: 4.1278e-05\n",
      "Epoch 29/1500\n",
      "6930/6930 [==============================] - 9s 1ms/step - loss: 1.5875e-04 - custom_loss1dMB: 8.2810 - custom_loss1dMBPrime: 1.5875e-04 - val_loss: 4.6724e-05 - val_custom_loss1dMB: 8.2760 - val_custom_loss1dMBPrime: 4.6724e-05\n",
      "Epoch 30/1500\n",
      "6930/6930 [==============================] - 9s 1ms/step - loss: 1.6521e-04 - custom_loss1dMB: 8.2810 - custom_loss1dMBPrime: 1.6521e-04 - val_loss: 2.7083e-04 - val_custom_loss1dMB: 8.2761 - val_custom_loss1dMBPrime: 2.7083e-04\n",
      "Epoch 31/1500\n",
      "6930/6930 [==============================] - 9s 1ms/step - loss: 1.6729e-04 - custom_loss1dMB: 8.2810 - custom_loss1dMBPrime: 1.6729e-04 - val_loss: 8.5929e-05 - val_custom_loss1dMB: 8.2760 - val_custom_loss1dMBPrime: 8.5929e-05\n",
      "Epoch 32/1500\n",
      "6930/6930 [==============================] - 9s 1ms/step - loss: 1.3026e-04 - custom_loss1dMB: 8.2809 - custom_loss1dMBPrime: 1.3026e-04 - val_loss: 8.7016e-05 - val_custom_loss1dMB: 8.2760 - val_custom_loss1dMBPrime: 8.7016e-05\n",
      "Epoch 33/1500\n",
      "6930/6930 [==============================] - 9s 1ms/step - loss: 1.6033e-04 - custom_loss1dMB: 8.2809 - custom_loss1dMBPrime: 1.6033e-04 - val_loss: 6.7776e-05 - val_custom_loss1dMB: 8.2760 - val_custom_loss1dMBPrime: 6.7776e-05\n",
      "Epoch 34/1500\n",
      "6930/6930 [==============================] - 9s 1ms/step - loss: 1.3289e-04 - custom_loss1dMB: 8.2809 - custom_loss1dMBPrime: 1.3289e-04 - val_loss: 1.5794e-04 - val_custom_loss1dMB: 8.2760 - val_custom_loss1dMBPrime: 1.5794e-04\n"
     ]
    },
    {
     "name": "stdout",
     "output_type": "stream",
     "text": [
      "Epoch 35/1500\n",
      "6930/6930 [==============================] - 9s 1ms/step - loss: 1.2958e-04 - custom_loss1dMB: 8.2809 - custom_loss1dMBPrime: 1.2958e-04 - val_loss: 2.6511e-05 - val_custom_loss1dMB: 8.2759 - val_custom_loss1dMBPrime: 2.6511e-05\n",
      "Epoch 36/1500\n",
      "6930/6930 [==============================] - 9s 1ms/step - loss: 1.2185e-04 - custom_loss1dMB: 8.2809 - custom_loss1dMBPrime: 1.2185e-04 - val_loss: 2.6058e-05 - val_custom_loss1dMB: 8.2759 - val_custom_loss1dMBPrime: 2.6058e-05\n",
      "Epoch 37/1500\n",
      "6930/6930 [==============================] - 9s 1ms/step - loss: 1.2933e-04 - custom_loss1dMB: 8.2809 - custom_loss1dMBPrime: 1.2933e-04 - val_loss: 1.3841e-04 - val_custom_loss1dMB: 8.2760 - val_custom_loss1dMBPrime: 1.3841e-04\n",
      "Epoch 38/1500\n",
      "6930/6930 [==============================] - 9s 1ms/step - loss: 1.2940e-04 - custom_loss1dMB: 8.2809 - custom_loss1dMBPrime: 1.2940e-04 - val_loss: 2.4939e-05 - val_custom_loss1dMB: 8.2759 - val_custom_loss1dMBPrime: 2.4939e-05\n",
      "Epoch 39/1500\n",
      "6930/6930 [==============================] - 9s 1ms/step - loss: 1.2656e-04 - custom_loss1dMB: 8.2809 - custom_loss1dMBPrime: 1.2656e-04 - val_loss: 8.3521e-05 - val_custom_loss1dMB: 8.2759 - val_custom_loss1dMBPrime: 8.3521e-05\n",
      "Epoch 40/1500\n",
      "6930/6930 [==============================] - 9s 1ms/step - loss: 9.0798e-05 - custom_loss1dMB: 8.2809 - custom_loss1dMBPrime: 9.0798e-05 - val_loss: 2.3923e-05 - val_custom_loss1dMB: 8.2759 - val_custom_loss1dMBPrime: 2.3923e-05\n",
      "Epoch 41/1500\n",
      "6930/6930 [==============================] - 9s 1ms/step - loss: 1.0151e-04 - custom_loss1dMB: 8.2809 - custom_loss1dMBPrime: 1.0151e-04 - val_loss: 1.4107e-04 - val_custom_loss1dMB: 8.2760 - val_custom_loss1dMBPrime: 1.4107e-04\n",
      "Epoch 42/1500\n",
      "6930/6930 [==============================] - 9s 1ms/step - loss: 1.1254e-04 - custom_loss1dMB: 8.2809 - custom_loss1dMBPrime: 1.1254e-04 - val_loss: 2.5272e-05 - val_custom_loss1dMB: 8.2759 - val_custom_loss1dMBPrime: 2.5272e-05\n",
      "Epoch 43/1500\n",
      "6930/6930 [==============================] - 9s 1ms/step - loss: 1.1338e-04 - custom_loss1dMB: 8.2809 - custom_loss1dMBPrime: 1.1338e-04 - val_loss: 3.1992e-05 - val_custom_loss1dMB: 8.2759 - val_custom_loss1dMBPrime: 3.1992e-05\n",
      "Epoch 44/1500\n",
      "6930/6930 [==============================] - 9s 1ms/step - loss: 9.8985e-05 - custom_loss1dMB: 8.2808 - custom_loss1dMBPrime: 9.8985e-05 - val_loss: 2.3257e-05 - val_custom_loss1dMB: 8.2759 - val_custom_loss1dMBPrime: 2.3257e-05\n",
      "Epoch 45/1500\n",
      "6930/6930 [==============================] - 9s 1ms/step - loss: 8.3483e-05 - custom_loss1dMB: 8.2808 - custom_loss1dMBPrime: 8.3483e-05 - val_loss: 2.1892e-05 - val_custom_loss1dMB: 8.2759 - val_custom_loss1dMBPrime: 2.1892e-05\n",
      "Epoch 46/1500\n",
      "6930/6930 [==============================] - 9s 1ms/step - loss: 8.0016e-05 - custom_loss1dMB: 8.2808 - custom_loss1dMBPrime: 8.0016e-05 - val_loss: 5.7614e-05 - val_custom_loss1dMB: 8.2759 - val_custom_loss1dMBPrime: 5.7614e-05\n",
      "Epoch 47/1500\n",
      "6930/6930 [==============================] - 9s 1ms/step - loss: 1.0730e-04 - custom_loss1dMB: 8.2808 - custom_loss1dMBPrime: 1.0730e-04 - val_loss: 3.8858e-05 - val_custom_loss1dMB: 8.2759 - val_custom_loss1dMBPrime: 3.8858e-05\n",
      "Epoch 48/1500\n",
      "6930/6930 [==============================] - 9s 1ms/step - loss: 9.3564e-05 - custom_loss1dMB: 8.2808 - custom_loss1dMBPrime: 9.3564e-05 - val_loss: 9.5385e-05 - val_custom_loss1dMB: 8.2759 - val_custom_loss1dMBPrime: 9.5385e-05\n",
      "Epoch 49/1500\n",
      "6930/6930 [==============================] - 9s 1ms/step - loss: 7.4330e-05 - custom_loss1dMB: 8.2808 - custom_loss1dMBPrime: 7.4330e-05 - val_loss: 2.9150e-04 - val_custom_loss1dMB: 8.2760 - val_custom_loss1dMBPrime: 2.9150e-04\n",
      "Epoch 50/1500\n",
      "6930/6930 [==============================] - 9s 1ms/step - loss: 1.0465e-04 - custom_loss1dMB: 8.2808 - custom_loss1dMBPrime: 1.0465e-04 - val_loss: 2.1045e-05 - val_custom_loss1dMB: 8.2759 - val_custom_loss1dMBPrime: 2.1045e-05\n",
      "Epoch 51/1500\n",
      "6930/6930 [==============================] - 9s 1ms/step - loss: 7.6346e-05 - custom_loss1dMB: 8.2808 - custom_loss1dMBPrime: 7.6346e-05 - val_loss: 2.1320e-05 - val_custom_loss1dMB: 8.2759 - val_custom_loss1dMBPrime: 2.1320e-05\n",
      "Epoch 52/1500\n",
      "6930/6930 [==============================] - 9s 1ms/step - loss: 7.4013e-05 - custom_loss1dMB: 8.2808 - custom_loss1dMBPrime: 7.4013e-05 - val_loss: 2.8246e-05 - val_custom_loss1dMB: 8.2759 - val_custom_loss1dMBPrime: 2.8246e-05\n",
      "Epoch 53/1500\n",
      "6930/6930 [==============================] - 9s 1ms/step - loss: 7.1614e-05 - custom_loss1dMB: 8.2808 - custom_loss1dMBPrime: 7.1614e-05 - val_loss: 4.5799e-05 - val_custom_loss1dMB: 8.2759 - val_custom_loss1dMBPrime: 4.5799e-05\n",
      "Epoch 54/1500\n",
      "6930/6930 [==============================] - 9s 1ms/step - loss: 1.0557e-04 - custom_loss1dMB: 8.2808 - custom_loss1dMBPrime: 1.0557e-04 - val_loss: 4.0164e-04 - val_custom_loss1dMB: 8.2760 - val_custom_loss1dMBPrime: 4.0164e-04\n",
      "Epoch 55/1500\n",
      "6930/6930 [==============================] - 9s 1ms/step - loss: 5.9579e-05 - custom_loss1dMB: 8.2808 - custom_loss1dMBPrime: 5.9579e-05 - val_loss: 2.1304e-05 - val_custom_loss1dMB: 8.2759 - val_custom_loss1dMBPrime: 2.1304e-05\n",
      "Epoch 56/1500\n",
      "6930/6930 [==============================] - 9s 1ms/step - loss: 7.4350e-05 - custom_loss1dMB: 8.2808 - custom_loss1dMBPrime: 7.4350e-05 - val_loss: 2.0596e-05 - val_custom_loss1dMB: 8.2758 - val_custom_loss1dMBPrime: 2.0596e-05\n",
      "Epoch 57/1500\n",
      "6930/6930 [==============================] - 9s 1ms/step - loss: 6.3747e-05 - custom_loss1dMB: 8.2808 - custom_loss1dMBPrime: 6.3747e-05 - val_loss: 2.8229e-04 - val_custom_loss1dMB: 8.2760 - val_custom_loss1dMBPrime: 2.8229e-04\n",
      "Epoch 58/1500\n",
      "6930/6930 [==============================] - 9s 1ms/step - loss: 7.8240e-05 - custom_loss1dMB: 8.2808 - custom_loss1dMBPrime: 7.8240e-05 - val_loss: 1.4278e-04 - val_custom_loss1dMB: 8.2759 - val_custom_loss1dMBPrime: 1.4278e-04\n",
      "Epoch 59/1500\n",
      "6930/6930 [==============================] - 9s 1ms/step - loss: 7.4597e-05 - custom_loss1dMB: 8.2808 - custom_loss1dMBPrime: 7.4597e-05 - val_loss: 1.8426e-05 - val_custom_loss1dMB: 8.2758 - val_custom_loss1dMBPrime: 1.8426e-05\n",
      "Epoch 60/1500\n",
      "6930/6930 [==============================] - 9s 1ms/step - loss: 7.2728e-05 - custom_loss1dMB: 8.2808 - custom_loss1dMBPrime: 7.2728e-05 - val_loss: 2.5580e-05 - val_custom_loss1dMB: 8.2758 - val_custom_loss1dMBPrime: 2.5580e-05\n",
      "Epoch 61/1500\n",
      "6930/6930 [==============================] - 9s 1ms/step - loss: 8.0481e-05 - custom_loss1dMB: 8.2808 - custom_loss1dMBPrime: 8.0481e-05 - val_loss: 8.8832e-05 - val_custom_loss1dMB: 8.2759 - val_custom_loss1dMBPrime: 8.8832e-05\n",
      "Epoch 62/1500\n",
      "6930/6930 [==============================] - 9s 1ms/step - loss: 5.7306e-05 - custom_loss1dMB: 8.2808 - custom_loss1dMBPrime: 5.7306e-05 - val_loss: 2.0009e-05 - val_custom_loss1dMB: 8.2758 - val_custom_loss1dMBPrime: 2.0009e-05\n",
      "Epoch 63/1500\n",
      "6930/6930 [==============================] - 9s 1ms/step - loss: 6.6320e-05 - custom_loss1dMB: 8.2808 - custom_loss1dMBPrime: 6.6320e-05 - val_loss: 2.6379e-05 - val_custom_loss1dMB: 8.2758 - val_custom_loss1dMBPrime: 2.6379e-05\n",
      "Epoch 64/1500\n",
      "6930/6930 [==============================] - 9s 1ms/step - loss: 5.9432e-05 - custom_loss1dMB: 8.2808 - custom_loss1dMBPrime: 5.9432e-05 - val_loss: 1.8205e-05 - val_custom_loss1dMB: 8.2758 - val_custom_loss1dMBPrime: 1.8205e-05\n",
      "Epoch 65/1500\n",
      "6930/6930 [==============================] - 9s 1ms/step - loss: 5.8432e-05 - custom_loss1dMB: 8.2808 - custom_loss1dMBPrime: 5.8432e-05 - val_loss: 1.7780e-05 - val_custom_loss1dMB: 8.2758 - val_custom_loss1dMBPrime: 1.7780e-05\n",
      "Epoch 66/1500\n",
      "6930/6930 [==============================] - 9s 1ms/step - loss: 8.0630e-05 - custom_loss1dMB: 8.2808 - custom_loss1dMBPrime: 8.0630e-05 - val_loss: 2.4041e-05 - val_custom_loss1dMB: 8.2758 - val_custom_loss1dMBPrime: 2.4041e-05\n",
      "Epoch 67/1500\n",
      "6930/6930 [==============================] - 9s 1ms/step - loss: 4.4532e-05 - custom_loss1dMB: 8.2807 - custom_loss1dMBPrime: 4.4532e-05 - val_loss: 1.7558e-05 - val_custom_loss1dMB: 8.2758 - val_custom_loss1dMBPrime: 1.7558e-05\n",
      "Epoch 68/1500\n",
      "6930/6930 [==============================] - 9s 1ms/step - loss: 6.8979e-05 - custom_loss1dMB: 8.2808 - custom_loss1dMBPrime: 6.8979e-05 - val_loss: 4.0306e-05 - val_custom_loss1dMB: 8.2758 - val_custom_loss1dMBPrime: 4.0306e-05\n"
     ]
    },
    {
     "name": "stdout",
     "output_type": "stream",
     "text": [
      "Epoch 69/1500\n",
      "6930/6930 [==============================] - 8s 1ms/step - loss: 4.8633e-05 - custom_loss1dMB: 8.2807 - custom_loss1dMBPrime: 4.8633e-05 - val_loss: 2.2934e-05 - val_custom_loss1dMB: 8.2758 - val_custom_loss1dMBPrime: 2.2934e-05\n",
      "Epoch 70/1500\n",
      "6930/6930 [==============================] - 9s 1ms/step - loss: 7.0507e-05 - custom_loss1dMB: 8.2808 - custom_loss1dMBPrime: 7.0507e-05 - val_loss: 1.7469e-05 - val_custom_loss1dMB: 8.2758 - val_custom_loss1dMBPrime: 1.7469e-05\n",
      "Epoch 71/1500\n",
      "6930/6930 [==============================] - 9s 1ms/step - loss: 5.2971e-05 - custom_loss1dMB: 8.2807 - custom_loss1dMBPrime: 5.2971e-05 - val_loss: 1.7029e-05 - val_custom_loss1dMB: 8.2758 - val_custom_loss1dMBPrime: 1.7029e-05\n",
      "Epoch 72/1500\n",
      "6930/6930 [==============================] - 9s 1ms/step - loss: 7.1288e-05 - custom_loss1dMB: 8.2808 - custom_loss1dMBPrime: 7.1288e-05 - val_loss: 1.8611e-05 - val_custom_loss1dMB: 8.2758 - val_custom_loss1dMBPrime: 1.8611e-05\n",
      "Epoch 73/1500\n",
      "6930/6930 [==============================] - 9s 1ms/step - loss: 5.3266e-05 - custom_loss1dMB: 8.2807 - custom_loss1dMBPrime: 5.3266e-05 - val_loss: 1.6425e-05 - val_custom_loss1dMB: 8.2758 - val_custom_loss1dMBPrime: 1.6425e-05\n",
      "Epoch 74/1500\n",
      "6930/6930 [==============================] - 9s 1ms/step - loss: 6.3120e-05 - custom_loss1dMB: 8.2807 - custom_loss1dMBPrime: 6.3120e-05 - val_loss: 1.0058e-04 - val_custom_loss1dMB: 8.2759 - val_custom_loss1dMBPrime: 1.0058e-04\n",
      "Epoch 75/1500\n",
      "6930/6930 [==============================] - 9s 1ms/step - loss: 4.9927e-05 - custom_loss1dMB: 8.2807 - custom_loss1dMBPrime: 4.9927e-05 - val_loss: 2.3226e-05 - val_custom_loss1dMB: 8.2758 - val_custom_loss1dMBPrime: 2.3226e-05\n",
      "Epoch 76/1500\n",
      "6930/6930 [==============================] - 9s 1ms/step - loss: 3.6878e-05 - custom_loss1dMB: 8.2807 - custom_loss1dMBPrime: 3.6878e-05 - val_loss: 2.1903e-05 - val_custom_loss1dMB: 8.2758 - val_custom_loss1dMBPrime: 2.1903e-05\n",
      "Epoch 77/1500\n",
      "6930/6930 [==============================] - 9s 1ms/step - loss: 6.2731e-05 - custom_loss1dMB: 8.2807 - custom_loss1dMBPrime: 6.2731e-05 - val_loss: 6.9707e-05 - val_custom_loss1dMB: 8.2758 - val_custom_loss1dMBPrime: 6.9707e-05\n",
      "Epoch 78/1500\n",
      "6930/6930 [==============================] - 9s 1ms/step - loss: 5.8362e-05 - custom_loss1dMB: 8.2807 - custom_loss1dMBPrime: 5.8362e-05 - val_loss: 2.0762e-05 - val_custom_loss1dMB: 8.2758 - val_custom_loss1dMBPrime: 2.0762e-05\n",
      "Epoch 79/1500\n",
      "6930/6930 [==============================] - 8s 1ms/step - loss: 4.1776e-05 - custom_loss1dMB: 8.2807 - custom_loss1dMBPrime: 4.1776e-05 - val_loss: 2.0258e-05 - val_custom_loss1dMB: 8.2758 - val_custom_loss1dMBPrime: 2.0258e-05\n",
      "Epoch 80/1500\n",
      "6930/6930 [==============================] - 9s 1ms/step - loss: 5.5094e-05 - custom_loss1dMB: 8.2807 - custom_loss1dMBPrime: 5.5094e-05 - val_loss: 1.2859e-04 - val_custom_loss1dMB: 8.2759 - val_custom_loss1dMBPrime: 1.2859e-04\n",
      "Epoch 81/1500\n",
      "6930/6930 [==============================] - 8s 1ms/step - loss: 5.7215e-05 - custom_loss1dMB: 8.2807 - custom_loss1dMBPrime: 5.7215e-05 - val_loss: 1.8040e-05 - val_custom_loss1dMB: 8.2758 - val_custom_loss1dMBPrime: 1.8040e-05\n",
      "Epoch 82/1500\n",
      "6930/6930 [==============================] - 9s 1ms/step - loss: 5.5680e-05 - custom_loss1dMB: 8.2808 - custom_loss1dMBPrime: 5.5680e-05 - val_loss: 2.6184e-05 - val_custom_loss1dMB: 8.2758 - val_custom_loss1dMBPrime: 2.6184e-05\n",
      "Epoch 83/1500\n",
      "6930/6930 [==============================] - 9s 1ms/step - loss: 4.7562e-05 - custom_loss1dMB: 8.2807 - custom_loss1dMBPrime: 4.7562e-05 - val_loss: 4.7664e-05 - val_custom_loss1dMB: 8.2758 - val_custom_loss1dMBPrime: 4.7664e-05\n",
      "Epoch 84/1500\n",
      "6930/6930 [==============================] - 8s 1ms/step - loss: 4.7615e-05 - custom_loss1dMB: 8.2807 - custom_loss1dMBPrime: 4.7615e-05 - val_loss: 2.2980e-05 - val_custom_loss1dMB: 8.2758 - val_custom_loss1dMBPrime: 2.2980e-05\n",
      "Epoch 85/1500\n",
      "6930/6930 [==============================] - 9s 1ms/step - loss: 5.6830e-05 - custom_loss1dMB: 8.2807 - custom_loss1dMBPrime: 5.6830e-05 - val_loss: 1.5233e-05 - val_custom_loss1dMB: 8.2758 - val_custom_loss1dMBPrime: 1.5233e-05\n",
      "Epoch 86/1500\n",
      "6930/6930 [==============================] - 9s 1ms/step - loss: 2.9480e-05 - custom_loss1dMB: 8.2807 - custom_loss1dMBPrime: 2.9480e-05 - val_loss: 1.5011e-05 - val_custom_loss1dMB: 8.2758 - val_custom_loss1dMBPrime: 1.5011e-05\n",
      "Epoch 87/1500\n",
      "6930/6930 [==============================] - 9s 1ms/step - loss: 3.5868e-05 - custom_loss1dMB: 8.2807 - custom_loss1dMBPrime: 3.5868e-05 - val_loss: 1.8724e-05 - val_custom_loss1dMB: 8.2758 - val_custom_loss1dMBPrime: 1.8724e-05\n",
      "Epoch 88/1500\n",
      "6930/6930 [==============================] - 9s 1ms/step - loss: 8.1469e-05 - custom_loss1dMB: 8.2807 - custom_loss1dMBPrime: 8.1469e-05 - val_loss: 3.1691e-05 - val_custom_loss1dMB: 8.2758 - val_custom_loss1dMBPrime: 3.1691e-05\n",
      "Epoch 89/1500\n",
      "6930/6930 [==============================] - 9s 1ms/step - loss: 2.7426e-05 - custom_loss1dMB: 8.2807 - custom_loss1dMBPrime: 2.7426e-05 - val_loss: 2.2524e-05 - val_custom_loss1dMB: 8.2758 - val_custom_loss1dMBPrime: 2.2524e-05\n",
      "Epoch 90/1500\n",
      "6930/6930 [==============================] - 9s 1ms/step - loss: 4.6176e-05 - custom_loss1dMB: 8.2807 - custom_loss1dMBPrime: 4.6176e-05 - val_loss: 2.3693e-05 - val_custom_loss1dMB: 8.2758 - val_custom_loss1dMBPrime: 2.3693e-05\n",
      "Epoch 91/1500\n",
      "6930/6930 [==============================] - 9s 1ms/step - loss: 4.8228e-05 - custom_loss1dMB: 8.2807 - custom_loss1dMBPrime: 4.8228e-05 - val_loss: 2.4481e-05 - val_custom_loss1dMB: 8.2758 - val_custom_loss1dMBPrime: 2.4481e-05\n",
      "Epoch 92/1500\n",
      "6930/6930 [==============================] - 9s 1ms/step - loss: 5.2346e-05 - custom_loss1dMB: 8.2807 - custom_loss1dMBPrime: 5.2346e-05 - val_loss: 1.9090e-05 - val_custom_loss1dMB: 8.2758 - val_custom_loss1dMBPrime: 1.9090e-05\n",
      "Epoch 93/1500\n",
      "6930/6930 [==============================] - 9s 1ms/step - loss: 4.8059e-05 - custom_loss1dMB: 8.2807 - custom_loss1dMBPrime: 4.8059e-05 - val_loss: 3.7881e-05 - val_custom_loss1dMB: 8.2758 - val_custom_loss1dMBPrime: 3.7881e-05\n",
      "Epoch 94/1500\n",
      "6930/6930 [==============================] - 9s 1ms/step - loss: 2.2234e-05 - custom_loss1dMB: 8.2807 - custom_loss1dMBPrime: 2.2234e-05 - val_loss: 2.1487e-05 - val_custom_loss1dMB: 8.2758 - val_custom_loss1dMBPrime: 2.1487e-05\n",
      "Epoch 95/1500\n",
      "6930/6930 [==============================] - 9s 1ms/step - loss: 5.6239e-05 - custom_loss1dMB: 8.2807 - custom_loss1dMBPrime: 5.6239e-05 - val_loss: 1.0014e-04 - val_custom_loss1dMB: 8.2758 - val_custom_loss1dMBPrime: 1.0014e-04\n",
      "Epoch 96/1500\n",
      "6930/6930 [==============================] - 9s 1ms/step - loss: 4.7697e-05 - custom_loss1dMB: 8.2807 - custom_loss1dMBPrime: 4.7697e-05 - val_loss: 6.6807e-05 - val_custom_loss1dMB: 8.2758 - val_custom_loss1dMBPrime: 6.6807e-05\n",
      "Epoch 97/1500\n",
      "6930/6930 [==============================] - 9s 1ms/step - loss: 4.5792e-05 - custom_loss1dMB: 8.2807 - custom_loss1dMBPrime: 4.5792e-05 - val_loss: 1.5516e-05 - val_custom_loss1dMB: 8.2758 - val_custom_loss1dMBPrime: 1.5516e-05\n",
      "Epoch 98/1500\n",
      "6930/6930 [==============================] - 9s 1ms/step - loss: 3.5541e-05 - custom_loss1dMB: 8.2807 - custom_loss1dMBPrime: 3.5541e-05 - val_loss: 1.5336e-05 - val_custom_loss1dMB: 8.2758 - val_custom_loss1dMBPrime: 1.5336e-05\n",
      "Epoch 99/1500\n",
      "6930/6930 [==============================] - 9s 1ms/step - loss: 4.1553e-05 - custom_loss1dMB: 8.2807 - custom_loss1dMBPrime: 4.1553e-05 - val_loss: 3.7967e-05 - val_custom_loss1dMB: 8.2758 - val_custom_loss1dMBPrime: 3.7967e-05\n",
      "Epoch 100/1500\n",
      "6930/6930 [==============================] - 9s 1ms/step - loss: 4.3349e-05 - custom_loss1dMB: 8.2807 - custom_loss1dMBPrime: 4.3349e-05 - val_loss: 1.6604e-05 - val_custom_loss1dMB: 8.2758 - val_custom_loss1dMBPrime: 1.6604e-05\n",
      "Epoch 101/1500\n",
      "6930/6930 [==============================] - 9s 1ms/step - loss: 4.7961e-05 - custom_loss1dMB: 8.2807 - custom_loss1dMBPrime: 4.7961e-05 - val_loss: 1.8436e-04 - val_custom_loss1dMB: 8.2759 - val_custom_loss1dMBPrime: 1.8436e-04\n",
      "Epoch 102/1500\n",
      "6930/6930 [==============================] - 9s 1ms/step - loss: 2.7169e-05 - custom_loss1dMB: 8.2807 - custom_loss1dMBPrime: 2.7169e-05 - val_loss: 1.3796e-05 - val_custom_loss1dMB: 8.2758 - val_custom_loss1dMBPrime: 1.3796e-05\n"
     ]
    },
    {
     "name": "stdout",
     "output_type": "stream",
     "text": [
      "Epoch 103/1500\n",
      "6930/6930 [==============================] - 9s 1ms/step - loss: 4.7823e-05 - custom_loss1dMB: 8.2807 - custom_loss1dMBPrime: 4.7823e-05 - val_loss: 1.3577e-05 - val_custom_loss1dMB: 8.2758 - val_custom_loss1dMBPrime: 1.3577e-05\n",
      "Epoch 104/1500\n",
      "6930/6930 [==============================] - 9s 1ms/step - loss: 4.0567e-05 - custom_loss1dMB: 8.2807 - custom_loss1dMBPrime: 4.0567e-05 - val_loss: 4.4426e-05 - val_custom_loss1dMB: 8.2758 - val_custom_loss1dMBPrime: 4.4426e-05\n",
      "Epoch 105/1500\n",
      "6930/6930 [==============================] - 9s 1ms/step - loss: 4.3046e-05 - custom_loss1dMB: 8.2807 - custom_loss1dMBPrime: 4.3046e-05 - val_loss: 1.3639e-05 - val_custom_loss1dMB: 8.2758 - val_custom_loss1dMBPrime: 1.3639e-05\n",
      "Epoch 106/1500\n",
      "6930/6930 [==============================] - 9s 1ms/step - loss: 3.5505e-05 - custom_loss1dMB: 8.2807 - custom_loss1dMBPrime: 3.5505e-05 - val_loss: 1.4507e-05 - val_custom_loss1dMB: 8.2758 - val_custom_loss1dMBPrime: 1.4507e-05\n",
      "Epoch 107/1500\n",
      "6930/6930 [==============================] - 9s 1ms/step - loss: 4.8973e-05 - custom_loss1dMB: 8.2807 - custom_loss1dMBPrime: 4.8973e-05 - val_loss: 1.3454e-05 - val_custom_loss1dMB: 8.2758 - val_custom_loss1dMBPrime: 1.3454e-05\n",
      "Epoch 108/1500\n",
      "6930/6930 [==============================] - 9s 1ms/step - loss: 4.1495e-05 - custom_loss1dMB: 8.2807 - custom_loss1dMBPrime: 4.1495e-05 - val_loss: 2.0468e-05 - val_custom_loss1dMB: 8.2758 - val_custom_loss1dMBPrime: 2.0468e-05\n",
      "Epoch 109/1500\n",
      "6930/6930 [==============================] - 9s 1ms/step - loss: 3.0809e-05 - custom_loss1dMB: 8.2807 - custom_loss1dMBPrime: 3.0809e-05 - val_loss: 1.5783e-05 - val_custom_loss1dMB: 8.2758 - val_custom_loss1dMBPrime: 1.5783e-05\n",
      "Epoch 110/1500\n",
      "6930/6930 [==============================] - 9s 1ms/step - loss: 4.1784e-05 - custom_loss1dMB: 8.2807 - custom_loss1dMBPrime: 4.1784e-05 - val_loss: 9.3889e-05 - val_custom_loss1dMB: 8.2758 - val_custom_loss1dMBPrime: 9.3889e-05\n",
      "Epoch 111/1500\n",
      "6930/6930 [==============================] - 9s 1ms/step - loss: 4.2709e-05 - custom_loss1dMB: 8.2807 - custom_loss1dMBPrime: 4.2709e-05 - val_loss: 2.5294e-05 - val_custom_loss1dMB: 8.2758 - val_custom_loss1dMBPrime: 2.5294e-05\n",
      "Epoch 112/1500\n",
      "6930/6930 [==============================] - 9s 1ms/step - loss: 3.6263e-05 - custom_loss1dMB: 8.2807 - custom_loss1dMBPrime: 3.6263e-05 - val_loss: 1.3657e-05 - val_custom_loss1dMB: 8.2758 - val_custom_loss1dMBPrime: 1.3657e-05\n",
      "Epoch 113/1500\n",
      "6930/6930 [==============================] - 9s 1ms/step - loss: 2.5847e-05 - custom_loss1dMB: 8.2807 - custom_loss1dMBPrime: 2.5847e-05 - val_loss: 6.7666e-05 - val_custom_loss1dMB: 8.2758 - val_custom_loss1dMBPrime: 6.7666e-05\n",
      "Epoch 114/1500\n",
      "6930/6930 [==============================] - 9s 1ms/step - loss: 4.5104e-05 - custom_loss1dMB: 8.2807 - custom_loss1dMBPrime: 4.5104e-05 - val_loss: 1.3705e-05 - val_custom_loss1dMB: 8.2758 - val_custom_loss1dMBPrime: 1.3705e-05\n",
      "Epoch 115/1500\n",
      "6930/6930 [==============================] - 9s 1ms/step - loss: 3.9738e-05 - custom_loss1dMB: 8.2807 - custom_loss1dMBPrime: 3.9738e-05 - val_loss: 4.8899e-05 - val_custom_loss1dMB: 8.2758 - val_custom_loss1dMBPrime: 4.8899e-05\n",
      "Epoch 116/1500\n",
      "6930/6930 [==============================] - 9s 1ms/step - loss: 4.3542e-05 - custom_loss1dMB: 8.2807 - custom_loss1dMBPrime: 4.3542e-05 - val_loss: 1.2761e-05 - val_custom_loss1dMB: 8.2758 - val_custom_loss1dMBPrime: 1.2761e-05\n",
      "Epoch 117/1500\n",
      "6930/6930 [==============================] - 9s 1ms/step - loss: 3.9954e-05 - custom_loss1dMB: 8.2807 - custom_loss1dMBPrime: 3.9954e-05 - val_loss: 2.2940e-04 - val_custom_loss1dMB: 8.2759 - val_custom_loss1dMBPrime: 2.2940e-04\n",
      "Epoch 118/1500\n",
      "6930/6930 [==============================] - 9s 1ms/step - loss: 3.3629e-05 - custom_loss1dMB: 8.2807 - custom_loss1dMBPrime: 3.3629e-05 - val_loss: 3.7777e-05 - val_custom_loss1dMB: 8.2758 - val_custom_loss1dMBPrime: 3.7777e-05\n",
      "Epoch 119/1500\n",
      "6930/6930 [==============================] - 9s 1ms/step - loss: 4.4259e-05 - custom_loss1dMB: 8.2807 - custom_loss1dMBPrime: 4.4259e-05 - val_loss: 1.3933e-05 - val_custom_loss1dMB: 8.2758 - val_custom_loss1dMBPrime: 1.3933e-05\n",
      "Epoch 120/1500\n",
      "6930/6930 [==============================] - 9s 1ms/step - loss: 3.6046e-05 - custom_loss1dMB: 8.2807 - custom_loss1dMBPrime: 3.6046e-05 - val_loss: 1.4514e-05 - val_custom_loss1dMB: 8.2758 - val_custom_loss1dMBPrime: 1.4514e-05\n",
      "Epoch 121/1500\n",
      "6930/6930 [==============================] - 9s 1ms/step - loss: 3.3436e-05 - custom_loss1dMB: 8.2807 - custom_loss1dMBPrime: 3.3436e-05 - val_loss: 5.3914e-05 - val_custom_loss1dMB: 8.2758 - val_custom_loss1dMBPrime: 5.3914e-05\n",
      "Epoch 122/1500\n",
      "6930/6930 [==============================] - 9s 1ms/step - loss: 4.7359e-05 - custom_loss1dMB: 8.2807 - custom_loss1dMBPrime: 4.7359e-05 - val_loss: 1.5551e-05 - val_custom_loss1dMB: 8.2758 - val_custom_loss1dMBPrime: 1.5551e-05\n",
      "Epoch 123/1500\n",
      "6930/6930 [==============================] - 9s 1ms/step - loss: 2.3018e-05 - custom_loss1dMB: 8.2806 - custom_loss1dMBPrime: 2.3018e-05 - val_loss: 8.5684e-05 - val_custom_loss1dMB: 8.2758 - val_custom_loss1dMBPrime: 8.5684e-05\n",
      "Epoch 124/1500\n",
      "6930/6930 [==============================] - 9s 1ms/step - loss: 3.9638e-05 - custom_loss1dMB: 8.2807 - custom_loss1dMBPrime: 3.9638e-05 - val_loss: 5.0328e-05 - val_custom_loss1dMB: 8.2758 - val_custom_loss1dMBPrime: 5.0328e-05\n",
      "Epoch 125/1500\n",
      "6930/6930 [==============================] - 9s 1ms/step - loss: 2.3592e-05 - custom_loss1dMB: 8.2807 - custom_loss1dMBPrime: 2.3592e-05 - val_loss: 2.1685e-04 - val_custom_loss1dMB: 8.2759 - val_custom_loss1dMBPrime: 2.1685e-04\n",
      "Epoch 126/1500\n",
      "6930/6930 [==============================] - 9s 1ms/step - loss: 4.2425e-05 - custom_loss1dMB: 8.2807 - custom_loss1dMBPrime: 4.2425e-05 - val_loss: 4.2396e-05 - val_custom_loss1dMB: 8.2758 - val_custom_loss1dMBPrime: 4.2396e-05\n",
      "Epoch 00126: early stopping\n"
     ]
    },
    {
     "data": {
      "image/png": "[encoded data removed]",
      "text/plain": [
       "<Figure size 432x288 with 1 Axes>"
      ]
     },
     "metadata": {
      "needs_background": "light"
     },
     "output_type": "display_data"
    },
    {
     "data": {
      "image/png": "[encoded data removed]",
      "text/plain": [
       "<Figure size 432x288 with 1 Axes>"
      ]
     },
     "metadata": {
      "needs_background": "light"
     },
     "output_type": "display_data"
    }
   ],
   "source": [
    "# build training data and shuffe!\n",
    "#uTrain = np.arange(0.1, 1, 0.000001)\n",
    "#random.shuffle(uTrain)\n",
    "\n",
    "# create training data, consiting of only one moment u = 1\n",
    "#uTrain = np.ones(1000000)\n",
    "print(uTrain)\n",
    "#uTrain2 = np.ones(1000000)*2\n",
    "#uTrain = np.concatenate(uTrain1,uTrain2)\n",
    "\n",
    "#Create Early Stopping callback\n",
    "es = EarlyStopping(monitor='loss', mode='min', min_delta =0.00005, patience=50, verbose=10) # loss == custom_loss1dMBPrime by model definition\n",
    "mc = ModelCheckpoint('best_model.h5', monitor='loss', mode='min', save_best_only=True)\n",
    "\n",
    "# use uTrain as labels, since the custom loss is prepared that way \n",
    "#,tf.keras.callbacks.History() ,\n",
    "\n",
    "history = model.fit(uTrain, uTrain,validation_split=0.3, epochs=1500, batch_size=1000, verbose=1, callbacks = [es,mc])\n",
    "\n",
    "# summarize history for loss\n",
    "plt.plot(history.history['loss'])\n",
    "plt.plot(history.history['val_loss'])\n",
    "plt.title('model loss')\n",
    "plt.ylabel('loss')\n",
    "plt.xlabel('epoch')\n",
    "plt.legend(['train', 'test'], loc='upper left')\n",
    "plt.show()\n",
    "\n",
    "plt.plot(history.history['val_loss'])\n",
    "plt.title('model loss')\n",
    "plt.ylabel('loss')\n",
    "plt.xlabel('epoch')\n",
    "plt.legend(['test'], loc='upper left')\n",
    "plt.show()"
   ]
  },
  {
   "cell_type": "code",
   "execution_count": 70,
   "metadata": {},
   "outputs": [
    {
     "name": "stdout",
     "output_type": "stream",
     "text": [
      "[[-4.494337]]\n"
     ]
    },
    {
     "data": {
      "image/png": "[encoded data removed]",
      "text/plain": [
       "<Figure size 432x288 with 1 Axes>"
      ]
     },
     "metadata": {
      "needs_background": "light"
     },
     "output_type": "display_data"
    },
    {
     "name": "stdout",
     "output_type": "stream",
     "text": [
      "[[-3.0447404]]\n"
     ]
    },
    {
     "data": {
      "image/png": "[encoded data removed]",
      "text/plain": [
       "<Figure size 432x288 with 1 Axes>"
      ]
     },
     "metadata": {
      "needs_background": "light"
     },
     "output_type": "display_data"
    },
    {
     "name": "stdout",
     "output_type": "stream",
     "text": [
      "[[-6.951536]]\n"
     ]
    },
    {
     "data": {
      "image/png": "[encoded data removed]",
      "text/plain": [
       "<Figure size 432x288 with 1 Axes>"
      ]
     },
     "metadata": {
      "needs_background": "light"
     },
     "output_type": "display_data"
    }
   ],
   "source": [
    "# make prediction\n",
    "pred = model.predict([1])\n",
    "print(pred)\n",
    "# plot prediction to minimal entropy\n",
    "u = 1\n",
    "alpha = np.arange(-100.0, 1.0, 0.05)\n",
    "plt.figure()\n",
    "plt.plot(alpha,custom_loss1dMBPrime(u,alpha))\n",
    "plt.plot(pred,custom_loss1dMBPrime(u,pred), marker=\"*\")\n",
    "plt.ylabel('alpha')\n",
    "plt.xlabel('loss')\n",
    "plt.title('u=1')\n",
    "plt.show()\n",
    "# plot prediction to minimal entropy\n",
    "u = 1.5\n",
    "pred = model.predict([u])\n",
    "print(pred)\n",
    "alpha = np.arange(-100.0, 1.0, 0.05)\n",
    "plt.figure()\n",
    "plt.plot(alpha,custom_loss1dMBPrime(u,alpha))\n",
    "plt.plot(pred,custom_loss1dMBPrime(u,pred), marker=\"*\")\n",
    "plt.ylabel('alpha')\n",
    "plt.xlabel('loss')\n",
    "plt.title('u=1.5')\n",
    "plt.show()\n",
    "\n",
    "u = 0.5\n",
    "pred = model.predict([u])\n",
    "print(pred)\n",
    "alpha = np.arange(-100.0, 1.0, 0.05)\n",
    "plt.figure()\n",
    "plt.plot(alpha,custom_loss1dMBPrime(u,alpha))\n",
    "plt.plot(pred,custom_loss1dMBPrime(u,pred), marker=\"*\")\n",
    "plt.ylabel('alpha')\n",
    "plt.xlabel('loss')\n",
    "plt.title('u=0.5')\n",
    "plt.show()"
   ]
  },
  {
   "cell_type": "code",
   "execution_count": 76,
   "metadata": {},
   "outputs": [
    {
     "name": "stdout",
     "output_type": "stream",
     "text": [
      "2.2.0\n",
      "WARNING:tensorflow:From /home/steffen/.local/lib/python3.8/site-packages/tensorflow/python/ops/resource_variable_ops.py:1813: calling BaseResourceVariable.__init__ (from tensorflow.python.ops.resource_variable_ops) with constraint is deprecated and will be removed in a future version.\n",
      "Instructions for updating:\n",
      "If using Keras pass *_constraint arguments to layers.\n",
      "INFO:tensorflow:Assets written to: saved_model/_EntropyLoss_1_10_M_0/assets\n"
     ]
    }
   ],
   "source": [
    "# Save the model\n",
    "print(tf.version.VERSION)\n",
    "\n",
    "!mkdir -p saved_model\n",
    "model.save('saved_model/_EntropyLoss_1_10_M_0')"
   ]
  },
  {
   "cell_type": "markdown",
   "metadata": {},
   "source": [
    "#### Test the model ####\n",
    "\n",
    "Use alphas computed with a Newton solver"
   ]
  },
  {
   "cell_type": "code",
   "execution_count": 71,
   "metadata": {},
   "outputs": [
    {
     "name": "stdout",
     "output_type": "stream",
     "text": [
      "(312354, 1)\n",
      "(312354, 1)\n",
      "(0, 1)\n",
      "(0, 1)\n",
      "[9.76142e-05 3.35725e+01 9.87153e-05 ... 9.76142e-05 9.76142e-05\n",
      " 9.76142e-05]\n"
     ]
    },
    {
     "data": {
      "image/png": "[encoded data removed]",
      "text/plain": [
       "<Figure size 432x288 with 1 Axes>"
      ]
     },
     "metadata": {
      "needs_background": "light"
     },
     "output_type": "display_data"
    },
    {
     "name": "stdout",
     "output_type": "stream",
     "text": [
      "(4,)\n"
     ]
    },
    {
     "data": {
      "image/png": "[encoded data removed]",
      "text/plain": [
       "<Figure size 432x288 with 1 Axes>"
      ]
     },
     "metadata": {
      "needs_background": "light"
     },
     "output_type": "display_data"
    },
    {
     "name": "stdout",
     "output_type": "stream",
     "text": [
      "9762/9762 [==============================] - 4s 411us/step - loss: 154.3528 - custom_loss1dMB: 5.2610 - custom_loss1dMBPrime: 154.3528\n",
      "Test score: 154.35279846191406\n",
      "Test accuracy: 5.261043071746826\n",
      "(312354, 1)\n"
     ]
    },
    {
     "data": {
      "image/png": "[encoded data removed]",
      "text/plain": [
       "<Figure size 432x288 with 1 Axes>"
      ]
     },
     "metadata": {
      "needs_background": "light"
     },
     "output_type": "display_data"
    }
   ],
   "source": [
    "(xDataTrain,yDataTrain,xDataTest,yDataTest)=split_data(preprocess_data(\"testSetM_0.csv\"),0.0)\n",
    "\n",
    "#Check Test Data\n",
    "print(xDataTrain.shape)\n",
    "print(yDataTrain.shape)\n",
    "print(xDataTest.shape)\n",
    "print(yDataTest.shape)\n",
    "\n",
    "print(xDataTrain[:,0])\n",
    "plt.figure()\n",
    "plt.plot(xDataTrain[:12])\n",
    "plt.xlabel('id')\n",
    "plt.ylabel('u')\n",
    "plt.show()\n",
    "\n",
    "x = np.array([1,2,4,5])\n",
    "y = np.array([1,0,1,0])\n",
    "print(x.shape)\n",
    "plt.figure()\n",
    "plt.plot(xDataTrain[:,0],yDataTrain[:,0], 'o')\n",
    "plt.xlabel('u')\n",
    "plt.ylabel('alpha')\n",
    "plt.show()\n",
    "\n",
    "\n",
    "\n",
    "score = model.evaluate(np.asarray(xDataTrain), np.asarray(xDataTrain))\n",
    "print('Test score:', score[0])\n",
    "print('Test accuracy:', score[1])\n",
    "\n",
    "\n",
    "pred = model.predict(np.asarray(xDataTrain))\n",
    "print(pred.shape)\n",
    "\n",
    "plt.figure()\n",
    "plt.plot(xDataTrain[:,0],pred[:,0], 'o')\n",
    "plt.xlabel('u')\n",
    "plt.ylabel('alpha')\n",
    "plt.show()"
   ]
  },
  {
   "cell_type": "markdown",
   "metadata": {},
   "source": [
    "#### The more complicated case ###"
   ]
  },
  {
   "cell_type": "code",
   "execution_count": 72,
   "metadata": {
    "colab": {},
    "colab_type": "code",
    "id": "hS9H_h8BgK_g"
   },
   "outputs": [],
   "source": [
    "## Define the custom loss function\n",
    "def minimal_Entropy_Loss(u,alpha):\n",
    "\n",
    "  # Compute the spherical harmonics ( up to degree 2, hardcoded for testing puproses)\n",
    "  def spherical_harmonics(my, phi):\n",
    "    m = np.zeros(9)\n",
    "    m[0] = np.sqrt(1/(4*np.pi))\n",
    "    \n",
    "    m[1] = -1* np.sqrt(3/(4*np.pi))*np.sqrt(1-my*my)*np.sin(phi)\n",
    "    m[2] = np.sqrt(3/(4*np.pi))*my\n",
    "    m[3] = -1*np.sqrt(3/(4*np.pi))*np.sqrt(1-my*my)*np.cos(phi)\n",
    "\n",
    "   # m[4] = np.sqrt(15/(16*np.pi)) * (1-my*my) * np.sin(2 * phi)\n",
    "   # m[5] = -1 * np.sqrt(15/(4*np.pi)) * my * np.sqrt(1-my*my) * sin(phi)\n",
    "   # m[6] = np.sqrt(5/(16*np.pi))*(3*my*my-1)\n",
    "   # m[7] = -1 * sqrt(15/(4 * np.pi)) * np.sqrt(1-my * my) * np.cos(phi)\n",
    "   # m[8] = np.sqrt(15/(16* np.pi))*(1-my * my) * np.cos(2*phi)\n",
    "\n",
    "  return m\n",
    "\n",
    "  # Set integration points\n",
    "  def setPointsWeights(order):\n",
    "    # legendre points and weights to interpolate my\n",
    "    (my,w) = np.polynomial.legendre.leggauss(order)\n",
    "\n",
    "    # points and weights to interpolate phi\n",
    "    phi = np.zeros(order)\n",
    "   \n",
    "    for i in range(0,order):\n",
    "        phi[i] = (i+0.5)*np.pi/ order\n",
    "\n",
    "    #tensorized points and weights\n",
    "    nq =  2 * pow(order, 2 )\n",
    "\n",
    "    pointsOut = np.zeros([2,nq])\n",
    "    weightsOut = np.zeros(nq)\n",
    "    for j in range(0,order):\n",
    "      for i in range(0,order):\n",
    "        pointsOut[j * ( 2 * order ) + i,0] = my[j]\n",
    "        pointsOut[j * ( 2 * order ) + i,1] = phi[i]\n",
    "        weightsOut[j * ( 2 * order ) + i] = np.pi / order * w[j]\n",
    "\n",
    "    return (pointsOut,weightsOut)\n",
    "   \n",
    "  def entropy_MB(alpha,m):\n",
    "     return exp(alpa*m)\n",
    "  # define the entropy part\n",
    "  def entropy_part(alpha):\n",
    "\n",
    "    result  = 0.0\n",
    "\n",
    "    (points ,weights) = setPointsWeights(12) # order 12\n",
    "\n",
    "    for i in range(0,weights.size):\n",
    "      m = spherical_harmonics(points[i,0], points[i,1])\n",
    "\n",
    "      result+=entropyDual(alpha, m)*weights[i]\n",
    "\n",
    "\n",
    "    return result\n",
    "\n",
    "  # Stack together the loss function\n",
    "  loss = entropy_part(alpha) - alpha*u;\n",
    "  return loss\n"
   ]
  }
 ],
 "metadata": {
  "accelerator": "GPU",
  "colab": {
   "collapsed_sections": [],
   "name": "EntropyTrainer.ipynb",
   "provenance": []
  },
  "kernelspec": {
   "display_name": "Python 3",
   "language": "python",
   "name": "python3"
  },
  "language_info": {
   "codemirror_mode": {
    "name": "ipython",
    "version": 3
   },
   "file_extension": ".py",
   "mimetype": "text/x-python",
   "name": "python",
   "nbconvert_exporter": "python",
   "pygments_lexer": "ipython3",
   "version": "3.8.3"
  }
 },
 "nbformat": 4,
 "nbformat_minor": 1
}
